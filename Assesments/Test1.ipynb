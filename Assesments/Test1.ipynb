"""VaishnaviGajinkar_A15_Test1.ipynb
# Section A

Q1 Solution 1


=SUMIF(Table1[Region], "North",Table1[Sales])

The data is saved as a table named Table1. Values from Sales column is added only if Region has a value of 'North'

Q1 Solution 2

Create a table out of the data using ctrl+T.
Create a pivot table using the Insert tab in ribbon.
Drag the 'Regions' column in Rows field
         'Products' in Column field
         and 'Sales' in Values field.
Make sure the aggregation of values field is set to SUM

Q1 Solution 3

Using the filters of the table, select the non-blanks of Sales column.
Using the bottom ribbon, check the average value of the Sales column data.
Now keep only blanks selected in Sales col. Enter the average value as seen before.

Q2 Solution 1
"""

import pandas as pd
data = {
 'Employee': ['A','B','C','D','E'],
 'Department': ['HR','Finance','Finance','HR','IT'],
 'Salary': [50000, 60000, None, 52000, 70000]
}
df = pd.DataFrame(data)
avgSal = df.groupby('Department')['Salary'].mean()                                  # avg salary in each dept
print(avgSal)


"""Q2 Solution 2"""

import pandas as pd
data = {
 'Employee': ['A','B','C','D','E'],
 'Department': ['HR','Finance','Finance','HR','IT'],
 'Salary': [50000, 60000, None, 52000, 70000]
}
df = pd.DataFrame(data)

print(df['Employee'][df['Salary']==df['Salary'].max()])                             #  employee with the maximum salary 

"""
Q2 Solution 3

Since the other values of dataset have low variance, the missing value can be imputed with departmental average. The department of Finance has 2 values, hence replacing with 0 is not better. Dropping the value is the last option as it leads to loss of data.

Q3 Solution 1

SELECT CustomerID, SUM(Amount) FROM Orders GROUP BY CustomerID

Q3 Solution 2

SELECT CustomerID, SUM(Amount) as Total FROM Orders GROUP BY CustomerID ORDER BY Total DESC LIMIT 2

Q3 Solution 3

SQL result will not be affected because of Null values, hence it can be ignored. However filtering the results with a WHERE clause can be opted.

Q4 Solution 1

"""

import numpy as np
temps = np.array([30, 32, 28, 31, 29, 35, 33])

avg = np.mean(temps)
medn = np.median(temps)
stdiv = np.std(temps)

print("Average", avg)
print("Median", medn)
print("Std Div", stdiv)

"""Q4 Solution 2"""

import numpy as np
temps = np.array([30, 32, 28, 31, 29, 35, 33])

avg = np.mean(temps)
medn = np.median(temps)
stdiv = np.std(temps)

print(temps[temps>np.mean(temps)])
count = len(temps[temps>np.mean(temps)])
print(count)

"""Q4 Solution 3

Since NAN values affect the average, the np.nan_to_num(data, nan=value) function can be used to replace all nan fields with the value

# Section B

Q5 Solution 1

From the data it is clear that product B shows consistent growth from Jan to Feb

Q5 Solution 2

Q5 Solution 3

Q6 Solution 1
"""

import pandas as pd

data = {
 'CustomerID': ['C1','C2','C3','C4'],
 'Tenure': [12,5,3,20],
 'MonthlyCharges': [1000,700,1200,800],
 'Churn':['Yes','No','Yes','No']
}
df = pd.DataFrame(data)

ch_yes = df['MonthlyCharges'][df["Churn"]=='Yes'].mean()
ch_no = df['MonthlyCharges'][df["Churn"]=='No'].mean()

print("average MonthlyCharges for churned customers ", ch_yes)
print("average MonthlyCharges for non-churned customers ", ch_no)

"""
Q6 Solution 2
From the above result we see that avg monthly charges of 1100 has caused churning of customers
and monthly avg charges of 750 has not caused churning out of customers
Hence we can conclude that, higher charges seem to increase churn 

Q6 Solution 3
"""

import pandas as pd

data = {
 'CustomerID': ['C1','C2','C3','C4'],
 'Tenure': [12,5,3,20],
 'MonthlyCharges': [1000,700,1200,800],
 'Churn':['Yes','No','Yes','No']
}
df = pd.DataFrame(data)

ch_yes = df['Tenure'][df['Churn']=='Yes'].mean()
ch_no = df['Tenure'][df['Churn']=='No'].mean()

print("Avg tenure before churning out", ch_yes)                 # 7.5
print("Avg tenure of users who've not churned out yet", ch_no)  # 12.5

"""
From above result it is clear that tenure does not contribute to churn.

Q7 Solution 1
# average spend per user per day.

SELECT UserID, AVG(Amount) AS spend FROM Transactions GROUP BY UserID, Date

Q7 Solution 2
# day with the highest total spend.

SELECT Date, SUM(Amount) AS highest_spend FROM Transactions GROUP BY Date ORDER BY highest_spend DESC

Q7 Solution 3

SELECT *, RANK() OVER(PARTITION BY Date ORDER BY highest_spend DESC) as rnk
FROM (SELECT Date, SUM(Amount) AS highest_spend FROM Transactions GROUP BY Date) as sub WHERE rnk=1

Q8 Solution 1

SELECT *, TIMEDIFF(Logout_Time, Login_Time) as HrsWorked FROM EmployeeLogData 

"""
import pandas as pd
import numpy as np

data = {
    'Employee':['A','B','C'],
    'Login_Time':['09:00','10:00','09:30'],
    'Logout_Time':['17:00','16:00','18:00']
}
df = pd.DataFrame(data)

# np_login = np.datetime64(df['Login_Time'])
login = data['Login_Time']
pd_login = pd.to_datetime(login, format='mixed')
np_login = pd_login.to_numpy()

# np_logout = np.datetime64(df['Logout_Time'])
logout = data['Logout_Time']
pd_logout = pd.to_datetime(logout, format='mixed')
np_logout = pd_logout.to_numpy()

df['TotalHrsWorked'] = np_logout - np_login

# print(np_login)
# print(np_logout)
print(df)

"""
Q8 Solution 2

SELECT *, RANK() OVER(PARTITION BY Employee ORDER BY HrsWorked DESC) as rnk 
FROM (SELECT *, TIMEDIFF(Logout_Time, Login_Time) as HrsWorked FROM EmployeeLogData ) as sub WHERE rnk=1
"""
import pandas as pd
import numpy as np

data = {
    'Employee':['A','B','C'],
    'Login_Time':['09:00','10:00','09:30'],
    'Logout_Time':['17:00','16:00','18:00']
}
df = pd.DataFrame(data)

login = data['Login_Time']
pd_login = pd.to_datetime(login, format='mixed')
np_login = pd_login.to_numpy()

logout = data['Logout_Time']
pd_logout = pd.to_datetime(logout, format='mixed')
np_logout = pd_logout.to_numpy()

df['TotalHrsWorked'] = np_logout - np_login

sorted_df = df.sort_values(by='TotalHrsWorked', ascending=False)
print(df)

"""
Q8 Solution 3

If the Logout column has blank values, then the median logout time can be calculated for that particular employee and the Null value can be replaced with it.

"""
import pandas as pd
import numpy as np

data = {
    'Employee':['A','B','C'],
    'Login_Time':['09:00','10:00','09:30'],
    'Logout_Time':['17:00','16:00','18:00']
}
df = pd.DataFrame(data)

logout = data['Logout_Time']
pd_logout = pd.to_datetime(logout, format='mixed')
np_logout = pd_logout.to_numpy()

df['Logout_Time'] = np_logout

avg_logout_time = df.groupby('Employee')['Logout_Time'].median()            # calc median logout time for each emp
df['Logout_Time'].fillna(avg_logout_time)

print(df)

"""

"""