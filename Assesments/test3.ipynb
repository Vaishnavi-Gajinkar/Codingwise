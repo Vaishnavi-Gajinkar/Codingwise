{
 "cells": [
  {
   "cell_type": "markdown",
   "id": "393f4ceb",
   "metadata": {},
   "source": [
    "Q1: 1 – Assuming data is stored in columns from A-D in excel, the new col Net_Ship will be added in col E. Formula: =IF(D-2 < 0, 0, D-2). It prevents invalid entries.<br>\n",
    "Q1: 2 – select the entire data in excel and insert a pivot table using the Insert tab in ribbon. Drag the Warehouse col in rows and Shipped col in values section of the pivot. Make sure the aggregation is set to Sum.<br>\n",
    "Q1: 3 – stay on the Shipping col in data and using Ctrl+F, search for -- and in replace send value 0.\n"
   ]
  },
  {
   "cell_type": "code",
   "execution_count": null,
   "id": "59de509f",
   "metadata": {},
   "outputs": [
    {
     "name": "stdout",
     "output_type": "stream",
     "text": [
      "  Trainee Group  Python  Pandas  Excel  mean_across_subj\n",
      "0      T1    G1    78.0    80.0   70.0         76.000000\n",
      "1      T2    G1    85.0     NaN   82.0         83.500000\n",
      "2      T3    G2     NaN    75.0   78.0         76.500000\n",
      "3      T4    G2    90.0    92.0    NaN         91.000000\n",
      "4      T5    G3    88.0    85.0   90.0         87.666667\n",
      "Group\n",
      "G1    79.750000\n",
      "G2    83.750000\n",
      "G3    87.666667\n",
      "Name: mean_across_subj, dtype: float64\n"
     ]
    }
   ],
   "source": [
    "# Q2: 1 – Avg_score_per_group\n",
    "import pandas as pd\n",
    "data = {'Trainee': ['T1', 'T2', 'T3', 'T4', 'T5'],\n",
    "        'Group': ['G1', 'G1', 'G2', 'G2', 'G3'],\n",
    "        'Python': [ 78, 85, None, 90, 88],\n",
    "        'Pandas':[80, None, 75,92,85],\n",
    "        'Excel': [70, 82, 78, None, 90]}\n",
    "df = pd.DataFrame(data)\n",
    "df['mean_across_subj'] = df [['Python', 'Pandas', 'Excel']].mean(axis=1, skipna=True)\n",
    "group_mean = df.groupby('Group') ['mean_across_subj'].mean()\n",
    "print(df)\n",
    "print(group_mean)"
   ]
  },
  {
   "cell_type": "markdown",
   "id": "30196205",
   "metadata": {},
   "source": [
    "For trainee T1 -> (78+80+70)/3 = 76.0<br>\n",
    "For trainee T2 -> (78+80+70)/3 = 76.0<br>\n",
    "For trainee T3 -> (78+80+70)/3 = 76.0<br>\n",
    "For trainee T4 -> (78+80+70)/3 = 76.0<br>\n",
    "For trainee T5 -> (78+80+70)/3 = 76.0"
   ]
  },
  {
   "cell_type": "code",
   "execution_count": null,
   "id": "9b3549cd",
   "metadata": {},
   "outputs": [
    {
     "name": "stdout",
     "output_type": "stream",
     "text": [
      "  Trainee Group  Python  Pandas  Excel  mean_across_subj  total_scores\n",
      "0      T1    G1    78.0    80.0   70.0         76.000000         228.0\n",
      "1      T2    G1    85.0     0.0   82.0         83.500000         167.0\n",
      "2      T3    G2     0.0    75.0   78.0         76.500000         153.0\n",
      "3      T4    G2    90.0    92.0    0.0         91.000000         182.0\n",
      "4      T5    G3    88.0    85.0   90.0         87.666667         263.0\n",
      "Max total score 263.0\n"
     ]
    }
   ],
   "source": [
    "# Q2: 2 - trainee with maximum total score\n",
    "df = df.fillna(0,axis=0)\n",
    "df['total_scores'] = df['Python']+df['Pandas']+df['Excel']\n",
    "print(df)\n",
    "print(f\"Max total score {df['total_scores'].max()}\")"
   ]
  },
  {
   "cell_type": "code",
   "execution_count": 9,
   "id": "f75230d4",
   "metadata": {},
   "outputs": [
    {
     "data": {
      "text/html": [
       "<div>\n",
       "<style scoped>\n",
       "    .dataframe tbody tr th:only-of-type {\n",
       "        vertical-align: middle;\n",
       "    }\n",
       "\n",
       "    .dataframe tbody tr th {\n",
       "        vertical-align: top;\n",
       "    }\n",
       "\n",
       "    .dataframe thead th {\n",
       "        text-align: right;\n",
       "    }\n",
       "</style>\n",
       "<table border=\"1\" class=\"dataframe\">\n",
       "  <thead>\n",
       "    <tr style=\"text-align: right;\">\n",
       "      <th></th>\n",
       "      <th>Trainee</th>\n",
       "      <th>Group</th>\n",
       "      <th>Python</th>\n",
       "      <th>Pandas</th>\n",
       "      <th>Excel</th>\n",
       "      <th>mean_across_subj</th>\n",
       "      <th>total_scores</th>\n",
       "    </tr>\n",
       "  </thead>\n",
       "  <tbody>\n",
       "    <tr>\n",
       "      <th>0</th>\n",
       "      <td>T1</td>\n",
       "      <td>G1</td>\n",
       "      <td>78.0</td>\n",
       "      <td>80.0</td>\n",
       "      <td>70.0</td>\n",
       "      <td>76.000000</td>\n",
       "      <td>228.0</td>\n",
       "    </tr>\n",
       "    <tr>\n",
       "      <th>1</th>\n",
       "      <td>T2</td>\n",
       "      <td>G1</td>\n",
       "      <td>85.0</td>\n",
       "      <td>0.0</td>\n",
       "      <td>82.0</td>\n",
       "      <td>83.500000</td>\n",
       "      <td>167.0</td>\n",
       "    </tr>\n",
       "    <tr>\n",
       "      <th>2</th>\n",
       "      <td>T3</td>\n",
       "      <td>G2</td>\n",
       "      <td>0.0</td>\n",
       "      <td>75.0</td>\n",
       "      <td>78.0</td>\n",
       "      <td>76.500000</td>\n",
       "      <td>153.0</td>\n",
       "    </tr>\n",
       "    <tr>\n",
       "      <th>3</th>\n",
       "      <td>T4</td>\n",
       "      <td>G2</td>\n",
       "      <td>90.0</td>\n",
       "      <td>92.0</td>\n",
       "      <td>0.0</td>\n",
       "      <td>91.000000</td>\n",
       "      <td>182.0</td>\n",
       "    </tr>\n",
       "    <tr>\n",
       "      <th>4</th>\n",
       "      <td>T5</td>\n",
       "      <td>G3</td>\n",
       "      <td>88.0</td>\n",
       "      <td>85.0</td>\n",
       "      <td>90.0</td>\n",
       "      <td>87.666667</td>\n",
       "      <td>263.0</td>\n",
       "    </tr>\n",
       "  </tbody>\n",
       "</table>\n",
       "</div>"
      ],
      "text/plain": [
       "  Trainee Group  Python  Pandas  Excel  mean_across_subj  total_scores\n",
       "0      T1    G1    78.0    80.0   70.0         76.000000         228.0\n",
       "1      T2    G1    85.0     0.0   82.0         83.500000         167.0\n",
       "2      T3    G2     0.0    75.0   78.0         76.500000         153.0\n",
       "3      T4    G2    90.0    92.0    0.0         91.000000         182.0\n",
       "4      T5    G3    88.0    85.0   90.0         87.666667         263.0"
      ]
     },
     "execution_count": 9,
     "metadata": {},
     "output_type": "execute_result"
    }
   ],
   "source": [
    "#Q2: 3 – filling missing values with mean.\n",
    "\n",
    "df['Python']=df['Python'].fillna(df['Python'].mean())\n",
    "df['Pandas']=df['Pandas'].fillna(df['Pandas'].mean())\n",
    "df['Excel']=df['Excel'].fillna(df['Excel'].mean())\n",
    "df"
   ]
  },
  {
   "cell_type": "markdown",
   "id": "479a4813",
   "metadata": {},
   "source": [
    "Q3: 1 – SELECT OrderID, Cust, net_price FROM Orders WHERE net_price = COALESE(Price,0)<br>\n",
    "Q3: 2 – select Cust, sum(coalese(Price,0)) as total_rev from Orders group by Cust<br>\n",
    "For cust – C301, total rev = (60+40)<br>\n",
    "For cust – C301, total rev = (60+40)<br>\n",
    "For cust – C302, total rev = (0)<br>\n",
    "For cust – C303, total rev = (120)<br>\n",
    "Q3: 3 – for missing price values, we can use COALESE(Price,0) which will evaluate to 0, thus ignoring it."
   ]
  },
  {
   "cell_type": "code",
   "execution_count": 11,
   "id": "9aa083f8",
   "metadata": {},
   "outputs": [
    {
     "name": "stdout",
     "output_type": "stream",
     "text": [
      "56.285714285714285\n",
      "1.305404777321219\n",
      "54.0\n"
     ]
    }
   ],
   "source": [
    "# Q4: 1 - Numpy\n",
    "import numpy as np\n",
    "\n",
    "temps = np.array ([55.0, 56.5, 54.0, 57.0, 56.0, 58.0, 57.5])\n",
    "avg = temps.mean()\n",
    "print(temps.mean())\n",
    "print(temps.std())\n",
    "print(temps.min())"
   ]
  },
  {
   "cell_type": "code",
   "execution_count": 13,
   "id": "004efd57",
   "metadata": {},
   "outputs": [
    {
     "name": "stdout",
     "output_type": "stream",
     "text": [
      "[57.  58.  57.5]\n",
      "3\n"
     ]
    }
   ],
   "source": [
    "print(temps[temps>(avg+0.3)]) \n",
    "print(temps[temps>(avg+0.3)].size) "
   ]
  },
  {
   "cell_type": "markdown",
   "id": "167f3266",
   "metadata": {},
   "source": [
    "Mean = (55.0 + 56.5 + 54.0 + 57.0 + 56.0 + 58.0 + 57.5)/7 = 56.28<br>\n",
    "Std = 1.305<br>\n",
    "Min = minimum value in all values = 54.0<br>\n",
    "\n",
    "Q4: 2 – print(temps[temps>(avg+0.3)].size) = 3<br>\n",
    "Mean = 56.28 , mean+0.3 = 56.58<br>\n",
    "Values satisfying this cond are :  57.0, 58.0, 57.5<br>"
   ]
  },
  {
   "cell_type": "code",
   "execution_count": 15,
   "id": "6578679a",
   "metadata": {},
   "outputs": [],
   "source": [
    "# Q4: 3 – Capping values upto an upper limit\n",
    "temps = temps[temps<101]"
   ]
  },
  {
   "cell_type": "markdown",
   "id": "3fcc8a4c",
   "metadata": {},
   "source": [
    "Q5: 1 – march -> April <br>\n",
    "OutletType – mall = 45000-47000 = +2000<br>\n",
    "OutletType – street = 22000-21000 = -1000<br>\n",
    "Hence we can see, from mar to apr, the mall outlet type grew by 2000<br>\n",
    "There was no outlet type change in west, its street in both months.<br>\n",
    "\n",
    "Q5: 2 – DAX<br>\n",
    "Tot_sales  = sum(revenue)<br>\n",
    "Prev_month = calculate(revenue – previous[calendar’month’])<br>\n",
    "Per_change = Divide((Revenue – previous_month),tot_sales,0)<br>\n",
    "\n",
    "Q5: 3 – if month is present but a specific date is missing, a random date in that month can be imputed and aggregation over a larger time period can be done like quarter or yearly.<br>"
   ]
  },
  {
   "cell_type": "markdown",
   "id": "a2017263",
   "metadata": {},
   "source": [
    "Q6: 1 – for churn = Yes, (3.0+2.9)/2 = 2.95<br>\n",
    "For churn = No, (4.2+4.7)/2 = 4.45<br>\n",
    "Q6: 2 – for churn = yes, ticket price (3 -> 5)<br>\n",
    "for churn = no, ticket price (1 -> 0)<br>\n",
    "since there is churn happening for increase in ticket price, we can conclude that higher ticket count increases churn.<br>\n",
    "Q6: 3 – for response time field, ideally the churn should increase with increase in response time.<br>\n",
    "As for faster response times, the cust should be satisfied."
   ]
  },
  {
   "cell_type": "markdown",
   "id": "73484305",
   "metadata": {},
   "source": [
    "Q7: 1 – avg amt per userID<br>\n",
    "For uID – U301 – (30+45)/2 = 37.5<br>\n",
    "For UID – U302 – avg is 60<br>\n",
    "For UID – U303 – avg is 20<br>\n",
    "\n",
    "Q7: 2 – select UserID, rank() over(partition by UserID order by Amt desc) as top_cust from Payments where top_cust=1.\n",
    "\n",
    "Q7: 3 – for missing payment, we can exclude the record and mentioned about it separately in the document.\n"
   ]
  },
  {
   "cell_type": "code",
   "execution_count": 18,
   "id": "1b1df408",
   "metadata": {},
   "outputs": [
    {
     "data": {
      "text/html": [
       "<div>\n",
       "<style scoped>\n",
       "    .dataframe tbody tr th:only-of-type {\n",
       "        vertical-align: middle;\n",
       "    }\n",
       "\n",
       "    .dataframe tbody tr th {\n",
       "        vertical-align: top;\n",
       "    }\n",
       "\n",
       "    .dataframe thead th {\n",
       "        text-align: right;\n",
       "    }\n",
       "</style>\n",
       "<table border=\"1\" class=\"dataframe\">\n",
       "  <thead>\n",
       "    <tr style=\"text-align: right;\">\n",
       "      <th></th>\n",
       "      <th>emp</th>\n",
       "      <th>start</th>\n",
       "      <th>end</th>\n",
       "      <th>TotalHrsWorked</th>\n",
       "    </tr>\n",
       "  </thead>\n",
       "  <tbody>\n",
       "    <tr>\n",
       "      <th>0</th>\n",
       "      <td>Ε10</td>\n",
       "      <td>08:00</td>\n",
       "      <td>16:30</td>\n",
       "      <td>0 days 08:30:00</td>\n",
       "    </tr>\n",
       "    <tr>\n",
       "      <th>1</th>\n",
       "      <td>E11</td>\n",
       "      <td>08:45</td>\n",
       "      <td>17:15</td>\n",
       "      <td>0 days 08:30:00</td>\n",
       "    </tr>\n",
       "    <tr>\n",
       "      <th>2</th>\n",
       "      <td>E12</td>\n",
       "      <td>09:00</td>\n",
       "      <td>17:00</td>\n",
       "      <td>0 days 08:00:00</td>\n",
       "    </tr>\n",
       "  </tbody>\n",
       "</table>\n",
       "</div>"
      ],
      "text/plain": [
       "   emp  start    end  TotalHrsWorked\n",
       "0  Ε10  08:00  16:30 0 days 08:30:00\n",
       "1  E11  08:45  17:15 0 days 08:30:00\n",
       "2  E12  09:00  17:00 0 days 08:00:00"
      ]
     },
     "execution_count": 18,
     "metadata": {},
     "output_type": "execute_result"
    }
   ],
   "source": [
    "# Q8 : 1 - datetime\n",
    "data = {'emp': ['Ε10', 'E11', 'E12'],\n",
    "        'start': ['08:00', '08:45', '09:00'],\n",
    "        'end': ['16:30', '17:15', '17:00']}\n",
    "df = pd.DataFrame(data)\n",
    "login = df['start']\n",
    "pd_login = pd.to_datetime(login, format='mixed')\n",
    "np_login = pd_login.to_numpy()\n",
    "\n",
    "logout = df['end']\n",
    "pd_logout = pd.to_datetime (logout, format='mixed')\n",
    "np_logout = pd_logout.to_numpy()\n",
    "df['TotalHrsWorked'] = np_logout - np_login\n",
    "df"
   ]
  },
  {
   "cell_type": "markdown",
   "id": "3d7b966a",
   "metadata": {},
   "source": [
    "Q8: 2 – the emps E10 and E11 have equally worked most hours i.e. 8h30mins<br>\n",
    "Q8: 3 - if isinstance(val, float): hours = int(val);<br>\n",
    "minutes = round((val - hours) * 100) then format<br>\n",
    "f\"{hours:02d}:{minutes:02d}\"<br>\n",
    "or else, ask to re-enter correctly"
   ]
  },
  {
   "cell_type": "markdown",
   "id": "1a3f3f2d",
   "metadata": {},
   "source": [
    "Q9: 1 – in excel create a new col with name ‘ctr’ with formula =if(@clicks/@impressions = 0, 0, @clicks/@impressions)<br>\n",
    "CTR = 240/6000 = 0.04 = 4%<br>\n",
    "CTR = 160/4000 = 0.04 = 4%<br>\n",
    "CTR = 250/6100 = 0.04 = 4%<br>\n",
    "\n",
    "Q9: 2 – A line chart would be insightful as dates are involved. Keep dates on x axis and AdX on y axis.<br>\n",
    "Yes aggregation would be necessary as there can be data for same dates<br>\n",
    "\n",
    "Q9: 3 – Zero in impression would cause incorrect computations hence we can impute with (Date+Ad) combination average there."
   ]
  },
  {
   "cell_type": "markdown",
   "id": "775da265",
   "metadata": {},
   "source": [
    "Q10: 1 – profit = monthlySales - opCost<br>\n",
    "City P  profit = 320000-260000 = 60000<br>\n",
    "CityQ profit = 210000- 140000 = 70000<br>\n",
    "CityR profit = 140000- 85000 = 55000<br>\n",
    "Since city P & Q have higher profits they can be picked up.\n",
    "\n",
    "Q10: 2 – KPI<br>\n",
    "1)\tProfit = monthlySales - opCost<br>\n",
    "CityP = 320000-260000 = 60000<br>\n",
    "CityQ profit = 210000- 140000 = 70000<br>\n",
    "CityR profit = 140000- 85000 = 55000<br>\n",
    "2)\tProfit per visitor = profit/Visitors<br>\n",
    "CityP = 60000/15000 = 4<br>\n",
    "CityQ profit = 70000/8000 = 8.75<br>\n",
    "CityR profit = 55000/4200 = 13.09<br>\n",
    "3)\tVisitors per Million Population = Visitors/ Population<br>\n",
    "CityP = 15000/4.5 = 3333.33<br>\n",
    "CityQ profit = 8000/3.0 = 26.667<br>\n",
    "CityR profit = 4200/1.2 = 3500 <br>\n",
    "\n",
    "Q10: 3 – For CityP, the Transport factor should be considered as it occurs frequently.\n",
    "- Check 1 — Incremental Operating Cost Estimate: estimate additional costs due to\n",
    "congestion (deliveries, staff overtime, parking fees) and recompute profit margin after\n",
    "those costs.\n",
    "- Check 2 — Service Level Impact: estimate impact on delivery times / customer\n",
    "satisfaction using existing data (e.g., average delivery time) — this affects repeat\n",
    "purchases.\n",
    "- Check 3 — Pilot / Smaller Format: test a smaller format or pop-up to validate demand\n",
    "and operational feasibility before full investment.\n",
    "- Check 4 — Regulatory & Logistics Review: check local restrictions, parking/loading\n",
    "zones, and supply chain constraints; factor in mitigation costs.\n"
   ]
  }
 ],
 "metadata": {
  "kernelspec": {
   "display_name": "Python 3",
   "language": "python",
   "name": "python3"
  },
  "language_info": {
   "codemirror_mode": {
    "name": "ipython",
    "version": 3
   },
   "file_extension": ".py",
   "mimetype": "text/x-python",
   "name": "python",
   "nbconvert_exporter": "python",
   "pygments_lexer": "ipython3",
   "version": "3.13.0"
  }
 },
 "nbformat": 4,
 "nbformat_minor": 5
}
