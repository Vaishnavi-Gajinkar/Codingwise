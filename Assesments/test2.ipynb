{
 "cells": [
  {
   "cell_type": "markdown",
   "id": "27f5614b",
   "metadata": {},
   "source": [
    "# Section A"
   ]
  },
  {
   "cell_type": "markdown",
   "id": "4abad0ad",
   "metadata": {},
   "source": [
    "Q1 Solution 1: &emsp;&emsp;&emsp; Formula:  =[@Returned]*-1<br>\n",
    "Q1 Solution 2: &emsp;&emsp;&emsp; Drag ‘Store’ in rows. Drag ‘Net Return’ in values. <br>\n",
    "Q1 Solution 3: &emsp;&emsp;&emsp; Filter the table to keep only ‘NA’ values in Returned col. Replace values in table with 0\n"
   ]
  },
  {
   "cell_type": "markdown",
   "id": "93801535",
   "metadata": {},
   "source": [
    "Q2 Solution 1: &emsp;&emsp;&emsp; Average skill score per batch"
   ]
  },
  {
   "cell_type": "code",
   "execution_count": 25,
   "id": "91882e24",
   "metadata": {},
   "outputs": [
    {
     "name": "stdout",
     "output_type": "stream",
     "text": [
      "Batch\n",
      "B1    85.0\n",
      "B2    83.0\n",
      "B3    90.0\n",
      "Name: DS_Score, dtype: float64\n",
      "Batch\n",
      "B1    77.5\n",
      "B2    82.0\n",
      "B3    88.0\n",
      "Name: Viz_Score, dtype: float64\n",
      "Batch\n",
      "B1    70.0\n",
      "B2    80.5\n",
      "B3    92.0\n",
      "Name: SQL_Score, dtype: float64\n",
      "\n",
      "Mean of B1 77.5\n",
      "Mean of B2 81.83333333333333\n",
      "Mean of B3 90.0\n"
     ]
    },
    {
     "name": "stderr",
     "output_type": "stream",
     "text": [
      "C:\\Users\\Lenovo\\AppData\\Local\\Temp\\ipykernel_16620\\839228853.py:17: FutureWarning: Series.__getitem__ treating keys as positions is deprecated. In a future version, integer keys will always be treated as labels (consistent with DataFrame behavior). To access a value by position, use `ser.iloc[pos]`\n",
      "  print(\"\\nMean of B1\", (avg1 [0]+avg2[0]+avg3[0])/3)\n",
      "C:\\Users\\Lenovo\\AppData\\Local\\Temp\\ipykernel_16620\\839228853.py:18: FutureWarning: Series.__getitem__ treating keys as positions is deprecated. In a future version, integer keys will always be treated as labels (consistent with DataFrame behavior). To access a value by position, use `ser.iloc[pos]`\n",
      "  print(\"Mean of B2\", (avg1 [1]+avg2[1]+avg3[1])/3)\n",
      "C:\\Users\\Lenovo\\AppData\\Local\\Temp\\ipykernel_16620\\839228853.py:19: FutureWarning: Series.__getitem__ treating keys as positions is deprecated. In a future version, integer keys will always be treated as labels (consistent with DataFrame behavior). To access a value by position, use `ser.iloc[pos]`\n",
      "  print(\"Mean of B3\", (avg1 [2]+avg2[2]+avg3[2])/3)\n"
     ]
    }
   ],
   "source": [
    "import pandas as pd\n",
    "data = {\n",
    "'CandID': ['C1', 'C2', 'C3', 'C4', 'C5'],\n",
    "'Batch': ['B1', 'B1', 'B2', 'B2', 'B3'],\n",
    "'DS_Score': [85, None, 78, 88, 90],\n",
    "'Viz_Score': [80, 75, 82, None, 88],\n",
    "'SQL_Score': [None, 70, 76, 85, 92]\n",
    "}\n",
    "df = pd.DataFrame(data)\n",
    "df\n",
    "avg1 = df.groupby('Batch') ['DS_Score'].mean()\n",
    "avg2 = df.groupby('Batch') ['Viz_Score'].mean()\n",
    "avg3 = df.groupby('Batch') ['SQL_Score'].mean()\n",
    "print(avg1)\n",
    "print(avg2)\n",
    "print(avg3)\n",
    "print(\"\\nMean of B1\", (avg1 [0]+avg2[0]+avg3[0])/3)\n",
    "print(\"Mean of B2\", (avg1 [1]+avg2[1]+avg3[1])/3)\n",
    "print(\"Mean of B3\", (avg1 [2]+avg2[2]+avg3[2])/3)\n"
   ]
  },
  {
   "cell_type": "code",
   "execution_count": 26,
   "id": "3bc855e2",
   "metadata": {},
   "outputs": [
    {
     "name": "stdout",
     "output_type": "stream",
     "text": [
      "Batch\n",
      "B1    77.500000\n",
      "B2    82.583333\n",
      "B3    90.000000\n",
      "Name: candidate_mean, dtype: float64\n"
     ]
    }
   ],
   "source": [
    "# create per-candidate average across available scores\n",
    "df['candidate_mean'] = df[['DS_Score','Viz_Score','SQL_Score']].mean(axis=1, skipna=True)           # optimal solution\n",
    "\n",
    "# average per batch\n",
    "batch_avg = df.groupby('Batch')['candidate_mean'].mean()\n",
    "print(batch_avg)"
   ]
  },
  {
   "cell_type": "markdown",
   "id": "a46c4eba",
   "metadata": {},
   "source": [
    "Q2 Solution 2: &emsp;&emsp;&emsp; CandID with max score"
   ]
  },
  {
   "cell_type": "code",
   "execution_count": 27,
   "metadata": {},
   "outputs": [
    {
     "name": "stdout",
     "output_type": "stream",
     "text": [
      "CandID            C5\n",
      "total_score    270.0\n",
      "Name: 4, dtype: object\n"
     ]
    }
   ],
   "source": [
    "import pandas as pd\n",
    "data = {\n",
    "'CandID': ['C1', 'C2', 'C3', 'C4', 'C5'],\n",
    "'Batch': ['B1', 'B1', 'B2', 'B2', 'B3'],\n",
    "'DS_Score': [85, None, 78, 88, 90],\n",
    "'Viz_Score': [80, 75, 82, None, 88],\n",
    "'SQL_Score': [None, 70, 76, 85, 92]\n",
    "}\n",
    "df = pd.DataFrame(data)\n",
    "df['Total_score'] = df['DS_Score'].fillna(0)+df['Viz_Score'].fillna(0)+df['SQL_Score'].fillna(0)\n",
    "df\n",
    "df['total_score'] = df[['DS_Score','Viz_Score','SQL_Score']].sum(axis=1, skipna=True)                       # optimal solution\n",
    "top = df.loc[df['total_score'].idxmax(), ['CandID','total_score']]\n",
    "print(top)"
   ]
  },
  {
   "cell_type": "markdown",
   "id": "096db953",
   "metadata": {},
   "source": [
    "Q2 Solution 3: &emsp;&emsp;&emsp; df['DS_Score'].fillna(df['DS_Score'].mean(), inplace=True)"
   ]
  },
  {
   "cell_type": "code",
   "execution_count": 28,
   "id": "f806e4bf",
   "metadata": {},
   "outputs": [
    {
     "data": {
      "text/html": [
       "<div>\n",
       "<style scoped>\n",
       "    .dataframe tbody tr th:only-of-type {\n",
       "        vertical-align: middle;\n",
       "    }\n",
       "\n",
       "    .dataframe tbody tr th {\n",
       "        vertical-align: top;\n",
       "    }\n",
       "\n",
       "    .dataframe thead th {\n",
       "        text-align: right;\n",
       "    }\n",
       "</style>\n",
       "<table border=\"1\" class=\"dataframe\">\n",
       "  <thead>\n",
       "    <tr style=\"text-align: right;\">\n",
       "      <th></th>\n",
       "      <th>CandID</th>\n",
       "      <th>Batch</th>\n",
       "      <th>DS_Score</th>\n",
       "      <th>Viz_Score</th>\n",
       "      <th>SQL_Score</th>\n",
       "      <th>Total_score</th>\n",
       "      <th>total_score</th>\n",
       "    </tr>\n",
       "  </thead>\n",
       "  <tbody>\n",
       "    <tr>\n",
       "      <th>0</th>\n",
       "      <td>C1</td>\n",
       "      <td>B1</td>\n",
       "      <td>85.0</td>\n",
       "      <td>80.0</td>\n",
       "      <td>70.0</td>\n",
       "      <td>165.0</td>\n",
       "      <td>165.0</td>\n",
       "    </tr>\n",
       "    <tr>\n",
       "      <th>1</th>\n",
       "      <td>C2</td>\n",
       "      <td>B1</td>\n",
       "      <td>85.0</td>\n",
       "      <td>75.0</td>\n",
       "      <td>70.0</td>\n",
       "      <td>145.0</td>\n",
       "      <td>145.0</td>\n",
       "    </tr>\n",
       "    <tr>\n",
       "      <th>2</th>\n",
       "      <td>C3</td>\n",
       "      <td>B2</td>\n",
       "      <td>78.0</td>\n",
       "      <td>82.0</td>\n",
       "      <td>76.0</td>\n",
       "      <td>236.0</td>\n",
       "      <td>236.0</td>\n",
       "    </tr>\n",
       "    <tr>\n",
       "      <th>3</th>\n",
       "      <td>C4</td>\n",
       "      <td>B2</td>\n",
       "      <td>88.0</td>\n",
       "      <td>82.0</td>\n",
       "      <td>85.0</td>\n",
       "      <td>173.0</td>\n",
       "      <td>173.0</td>\n",
       "    </tr>\n",
       "    <tr>\n",
       "      <th>4</th>\n",
       "      <td>C5</td>\n",
       "      <td>B3</td>\n",
       "      <td>90.0</td>\n",
       "      <td>88.0</td>\n",
       "      <td>92.0</td>\n",
       "      <td>270.0</td>\n",
       "      <td>270.0</td>\n",
       "    </tr>\n",
       "  </tbody>\n",
       "</table>\n",
       "</div>"
      ],
      "text/plain": [
       "  CandID Batch  DS_Score  Viz_Score  SQL_Score  Total_score  total_score\n",
       "0     C1    B1      85.0       80.0       70.0        165.0        165.0\n",
       "1     C2    B1      85.0       75.0       70.0        145.0        145.0\n",
       "2     C3    B2      78.0       82.0       76.0        236.0        236.0\n",
       "3     C4    B2      88.0       82.0       85.0        173.0        173.0\n",
       "4     C5    B3      90.0       88.0       92.0        270.0        270.0"
      ]
     },
     "execution_count": 28,
     "metadata": {},
     "output_type": "execute_result"
    }
   ],
   "source": [
    "df[['DS_Score','Viz_Score','SQL_Score']] = df.groupby('Batch')[['DS_Score','Viz_Score','SQL_Score']].transform(lambda x: x.fillna(x.mean()))\n",
    "df"
   ]
  },
  {
   "cell_type": "markdown",
   "id": "9b48dc9c",
   "metadata": {},
   "source": [
    "Q3 Solution 1: &emsp;&emsp;&emsp; select PurchaseID, BuyerID, net_amount from ( select (Amount-COALESCE(Discount,0) as net_amount from Purchases) as sub where net_amount=Amount-COALESCE(Discount,0)\n",
    "\n",
    "SELECT PurchaseID, BuyerID, COALESCE(Amount,0) - COALESCE(0,0) AS net_amount FROM Purchases;  # optimal solution <br> -- since Discount\n",
    "isn't present here, treat missing amount as 0\n"
   ]
  },
  {
   "cell_type": "markdown",
   "id": "fbfe3ee5",
   "metadata": {},
   "source": [
    "Q3 Solution 2: &emsp;&emsp;&emsp; total net revenue per BuyerID – \n",
    "select BuyerID, SUM(Amount) from Purchases group by BuyerID"
   ]
  },
  {
   "cell_type": "markdown",
   "id": "0c801f92",
   "metadata": {},
   "source": [
    "Q3 Solution 3: &emsp;&emsp;&emsp; if amount is NULL SQL will automatically treat it as 0 and do the aggregation on valid values. However still, the CASE WHEN THEN can be used to replace nulls with 0"
   ]
  },
  {
   "cell_type": "markdown",
   "id": "92ab5b0c",
   "metadata": {},
   "source": [
    "Q4 Solution 1: &emsp;&emsp;&emsp; mean, var & max calculation"
   ]
  },
  {
   "cell_type": "code",
   "execution_count": 29,
   "id": "81b47a8e",
   "metadata": {},
   "outputs": [
    {
     "name": "stdout",
     "output_type": "stream",
     "text": [
      "20.214285714285715\n",
      "1.7755102040816324\n",
      "22.0\n"
     ]
    }
   ],
   "source": [
    "import numpy as np\n",
    "readings = np.array ([18.0, 19.5, 21.0, 20.5, 19.0, 22.0, 21.5])\n",
    "print(readings.mean())                                          # or np.mean(readings)\n",
    "print(readings.var())                                           # or np.var(readings)\n",
    "print(readings.max())                                           # or np.max(readings)"
   ]
  },
  {
   "cell_type": "markdown",
   "id": "459cd7d4",
   "metadata": {},
   "source": [
    "Q4 Solution 2: &emsp;&emsp;&emsp; counting vals greater than 0.5+mean"
   ]
  },
  {
   "cell_type": "code",
   "execution_count": 30,
   "id": "32e8abe8",
   "metadata": {},
   "outputs": [
    {
     "name": "stdout",
     "output_type": "stream",
     "text": [
      "20.214285714285715\n",
      "1.7755102040816324\n",
      "22.0\n",
      "3\n",
      "3\n"
     ]
    }
   ],
   "source": [
    "import numpy as np\n",
    "readings = np.array([18.0, 19.5, 21.0, 20.5, 19.0, 22.0, 21.5])\n",
    "print(readings.mean())\n",
    "print(readings.var())\n",
    "print(readings.max())\n",
    "print(np.size (readings [readings > (readings.mean()+0.5)]))\n",
    "\n",
    "threshold = readings.mean() + 0.5                                       # optimal solution\n",
    "print(np.sum(readings > threshold))"
   ]
  },
  {
   "cell_type": "markdown",
   "id": "dc7b5d6c",
   "metadata": {},
   "source": [
    "Q4 Solution 3: &emsp;&emsp;&emsp; to exclude outliers, we can filter using below syntax\n",
    "readings[readings<100]\n"
   ]
  },
  {
   "cell_type": "code",
   "execution_count": 31,
   "id": "eee4e383",
   "metadata": {},
   "outputs": [
    {
     "name": "stdout",
     "output_type": "stream",
     "text": [
      "20.214285714285715\n",
      "1.7755102040816324\n",
      "22.0\n",
      "[18.  19.5 21.  20.5 19.  22.  21.5]\n"
     ]
    }
   ],
   "source": [
    "import numpy as np\n",
    "readings = np.array([18.0, 19.5, 21.0, 20.5, 19.0, 22.0, 21.5])\n",
    "print(readings.mean())\n",
    "print(readings.var())\n",
    "print(readings.max())\n",
    "print(readings [readings < 100])"
   ]
  },
  {
   "cell_type": "markdown",
   "id": "e855f98c",
   "metadata": {},
   "source": [
    "# Section B"
   ]
  },
  {
   "cell_type": "markdown",
   "id": "9bf6af6a",
   "metadata": {},
   "source": [
    "Q5 Solution 1: &emsp;&emsp;&emsp; the online channel in North grew from March-> Apr roughly by 3000"
   ]
  },
  {
   "cell_type": "markdown",
   "id": "13a0d473",
   "metadata": {},
   "source": [
    "![alt text](<Screenshot 2025-09-20 203914.png>)"
   ]
  },
  {
   "cell_type": "markdown",
   "id": "1cb14bd3",
   "metadata": {},
   "source": [
    "Q5 Solution 2: &emsp;&emsp;&emsp; DAX :: \n",
    "%Change = DIVIDE(GROUPBY(Sheet2,Sheet2[Month],Sheet2[Region]),SUM(Sheet2[Amount]))\n"
   ]
  },
  {
   "cell_type": "markdown",
   "id": "3ad79468",
   "metadata": {},
   "source": [
    "Q5 Solution 3: &emsp;&emsp;&emsp; If channel has few rows due to missing values, the last seen value can be pulled through"
   ]
  },
  {
   "cell_type": "markdown",
   "metadata": {},
   "source": [
    "Q6 Solution 1: &emsp;&emsp;&emsp; Avg satisfaction for churn yes / no"
   ]
  },
  {
   "cell_type": "markdown",
   "id": "52823f35",
   "metadata": {},
   "source": [
    "![alt text](<Screenshot 2025-09-20 205021.png>)"
   ]
  },
  {
   "cell_type": "markdown",
   "id": "8dacb86d",
   "metadata": {},
   "source": [
    "Q6 Solution 2: &emsp;&emsp;&emsp; Yes using the below PowerBI ss it seems raising the ticket value has caused more churning"
   ]
  },
  {
   "cell_type": "markdown",
   "id": "2b8e8c4c",
   "metadata": {},
   "source": [
    "![alt text](<Screenshot 2025-09-20 205210.png>)"
   ]
  },
  {
   "cell_type": "markdown",
   "id": "a17b86a9",
   "metadata": {},
   "source": [
    "Q6 Solution 3: &emsp;&emsp;&emsp; If avg_response_time indicates delay in responding to customer’s query, I think, the churn rate would increase with increase in response time"
   ]
  },
  {
   "cell_type": "markdown",
   "id": "9cec1d71",
   "metadata": {},
   "source": [
    "Q7 Solution 1: &emsp;&emsp;&emsp; average payment per user\n",
    "select User, AVG(value) as average_payment_per_user from User_Payments group by User\n"
   ]
  },
  {
   "cell_type": "markdown",
   "metadata": {},
   "source": [
    "Q7 Solution 2: &emsp;&emsp;&emsp; max single payment\n",
    "select User, MAX(value) as max_single_payment from User_Payments group by User\n"
   ]
  },
  {
   "cell_type": "markdown",
   "id": "affab8ee",
   "metadata": {},
   "source": [
    "Q7 Solution 3: &emsp;&emsp;&emsp; if user’s row is missing it should be ignored as we’re not aware which UID it belongs to, and then mention it explicitly in documentation."
   ]
  },
  {
   "cell_type": "markdown",
   "id": "be6fbd8c",
   "metadata": {},
   "source": [
    "Q8 Solution 1: &emsp;&emsp;&emsp; work hours per Staff"
   ]
  },
  {
   "cell_type": "code",
   "execution_count": 32,
   "id": "58f27998",
   "metadata": {},
   "outputs": [
    {
     "data": {
      "text/html": [
       "<div>\n",
       "<style scoped>\n",
       "    .dataframe tbody tr th:only-of-type {\n",
       "        vertical-align: middle;\n",
       "    }\n",
       "\n",
       "    .dataframe tbody tr th {\n",
       "        vertical-align: top;\n",
       "    }\n",
       "\n",
       "    .dataframe thead th {\n",
       "        text-align: right;\n",
       "    }\n",
       "</style>\n",
       "<table border=\"1\" class=\"dataframe\">\n",
       "  <thead>\n",
       "    <tr style=\"text-align: right;\">\n",
       "      <th></th>\n",
       "      <th>Staff</th>\n",
       "      <th>InTime</th>\n",
       "      <th>OutTime</th>\n",
       "      <th>TotalHrsWorked</th>\n",
       "    </tr>\n",
       "  </thead>\n",
       "  <tbody>\n",
       "    <tr>\n",
       "      <th>0</th>\n",
       "      <td>S10</td>\n",
       "      <td>07:45</td>\n",
       "      <td>16:00</td>\n",
       "      <td>0 days 08:15:00</td>\n",
       "    </tr>\n",
       "    <tr>\n",
       "      <th>1</th>\n",
       "      <td>11</td>\n",
       "      <td>08:30</td>\n",
       "      <td>17:30</td>\n",
       "      <td>0 days 09:00:00</td>\n",
       "    </tr>\n",
       "    <tr>\n",
       "      <th>2</th>\n",
       "      <td>S12</td>\n",
       "      <td>09:00</td>\n",
       "      <td>18:00</td>\n",
       "      <td>0 days 09:00:00</td>\n",
       "    </tr>\n",
       "  </tbody>\n",
       "</table>\n",
       "</div>"
      ],
      "text/plain": [
       "  Staff InTime OutTime  TotalHrsWorked\n",
       "0   S10  07:45   16:00 0 days 08:15:00\n",
       "1    11  08:30   17:30 0 days 09:00:00\n",
       "2   S12  09:00   18:00 0 days 09:00:00"
      ]
     },
     "execution_count": 32,
     "metadata": {},
     "output_type": "execute_result"
    }
   ],
   "source": [
    "data = {'Staff': ['S10', '11', 'S12'],\n",
    "'InTime': ['07:45', '08:30', '09:00'],\n",
    "'OutTime': ['16:00', '17:30', '18:00']}\n",
    "df = pd.DataFrame(data)\n",
    "login = df['InTime']\n",
    "pd_login = pd.to_datetime(login, format='mixed')\n",
    "np_login = pd_login.to_numpy()\n",
    "\n",
    "logout = df['OutTime']\n",
    "pd_logout = pd.to_datetime(logout, format='mixed')\n",
    "np_logout = pd_logout.to_numpy()\n",
    "df['TotalHrsWorked'] = np_logout - np_login\n",
    "df"
   ]
  },
  {
   "cell_type": "code",
   "execution_count": 33,
   "id": "b324a6eb",
   "metadata": {},
   "outputs": [
    {
     "name": "stdout",
     "output_type": "stream",
     "text": [
      "  Staff  Hours\n",
      "0   S10   8.25\n",
      "1    11   9.00\n",
      "2   S12   9.00\n"
     ]
    }
   ],
   "source": [
    "df['In'] = pd.to_datetime(df['InTime'], format='%H:%M')                                         # optimal solution\n",
    "df['Out'] = pd.to_datetime(df['OutTime'], format='%H:%M')\n",
    "df['Hours'] = (df['Out'] - df['In']).dt.total_seconds() / 3600\n",
    "print(df[['Staff','Hours']])\n"
   ]
  },
  {
   "cell_type": "markdown",
   "id": "f430bff4",
   "metadata": {},
   "source": [
    "Q8 Solution 2: &emsp;&emsp;&emsp; staff ID S11 & S12 worked the longest by 45mins as of S10"
   ]
  },
  {
   "cell_type": "markdown",
   "id": "657fc5ab",
   "metadata": {},
   "source": [
    "Q8 Solution 3: &emsp;&emsp;&emsp; if isinstance(val, float): hours = int(val);<br>\n",
    "&emsp;&emsp;&emsp; &emsp;&emsp;&emsp; &emsp;&emsp;&emsp; minutes = round((val - hours) * 100) then format<br>\n",
    "&emsp;&emsp;&emsp; &emsp;&emsp;&emsp;&emsp;&emsp;&emsp;  f\"{hours:02d}:{minutes:02d}\"."
   ]
  },
  {
   "cell_type": "markdown",
   "id": "6798fd11",
   "metadata": {},
   "source": [
    "Q9 Solution 1: &emsp;&emsp;&emsp; Excel: =[@Clicks]/[@Impr]"
   ]
  },
  {
   "cell_type": "code",
   "execution_count": 42,
   "id": "19f3b961",
   "metadata": {},
   "outputs": [
    {
     "data": {
      "text/html": [
       "<div>\n",
       "<style scoped>\n",
       "    .dataframe tbody tr th:only-of-type {\n",
       "        vertical-align: middle;\n",
       "    }\n",
       "\n",
       "    .dataframe tbody tr th {\n",
       "        vertical-align: top;\n",
       "    }\n",
       "\n",
       "    .dataframe thead th {\n",
       "        text-align: right;\n",
       "    }\n",
       "</style>\n",
       "<table border=\"1\" class=\"dataframe\">\n",
       "  <thead>\n",
       "    <tr style=\"text-align: right;\">\n",
       "      <th></th>\n",
       "      <th>Date</th>\n",
       "      <th>Campaign</th>\n",
       "      <th>Impr</th>\n",
       "      <th>Clicks</th>\n",
       "      <th>CTR_pandas</th>\n",
       "    </tr>\n",
       "  </thead>\n",
       "  <tbody>\n",
       "    <tr>\n",
       "      <th>0</th>\n",
       "      <td>2025-04-01</td>\n",
       "      <td>CmpA</td>\n",
       "      <td>8000</td>\n",
       "      <td>320</td>\n",
       "      <td>4.00000</td>\n",
       "    </tr>\n",
       "    <tr>\n",
       "      <th>1</th>\n",
       "      <td>2025-04-01</td>\n",
       "      <td>CmpB</td>\n",
       "      <td>4500</td>\n",
       "      <td>180</td>\n",
       "      <td>4.00000</td>\n",
       "    </tr>\n",
       "    <tr>\n",
       "      <th>2</th>\n",
       "      <td>2025-04-02</td>\n",
       "      <td>CmpA</td>\n",
       "      <td>8200</td>\n",
       "      <td>330</td>\n",
       "      <td>4.02439</td>\n",
       "    </tr>\n",
       "  </tbody>\n",
       "</table>\n",
       "</div>"
      ],
      "text/plain": [
       "        Date Campaign  Impr  Clicks  CTR_pandas\n",
       "0 2025-04-01     CmpA  8000     320     4.00000\n",
       "1 2025-04-01     CmpB  4500     180     4.00000\n",
       "2 2025-04-02     CmpA  8200     330     4.02439"
      ]
     },
     "execution_count": 42,
     "metadata": {},
     "output_type": "execute_result"
    }
   ],
   "source": [
    "campreach_df = pd.read_excel(r\"C:\\Users\\Lenovo\\OneDrive\\Documents\\Tests\\test.xlsx\", sheet_name=\"T2Q9\")          # installed dependency pip3 install openpyxl\n",
    "campreach_df.drop('CTR', axis=1, inplace=True)\n",
    "\n",
    "campreach_df['CTR_pandas'] = campreach_df['Clicks']/campreach_df['Impr']*100\n",
    "campreach_df\n"
   ]
  },
  {
   "cell_type": "code",
   "execution_count": 43,
   "id": "dbd36cba",
   "metadata": {},
   "outputs": [
    {
     "name": "stdout",
     "output_type": "stream",
     "text": [
      "<class 'pandas.core.frame.DataFrame'>\n",
      "RangeIndex: 3 entries, 0 to 2\n",
      "Data columns (total 5 columns):\n",
      " #   Column      Non-Null Count  Dtype         \n",
      "---  ------      --------------  -----         \n",
      " 0   Date        3 non-null      datetime64[ns]\n",
      " 1   Campaign    3 non-null      object        \n",
      " 2   Impr        3 non-null      int64         \n",
      " 3   Clicks      3 non-null      int64         \n",
      " 4   CTR_pandas  3 non-null      float64       \n",
      "dtypes: datetime64[ns](1), float64(1), int64(2), object(1)\n",
      "memory usage: 252.0+ bytes\n"
     ]
    }
   ],
   "source": [
    "campreach_df.info()"
   ]
  },
  {
   "cell_type": "markdown",
   "id": "d9674b7b",
   "metadata": {},
   "source": [
    "Q9 Solution 2: &emsp;&emsp;&emsp; Line chart. there doesn't seem a need for aggregation"
   ]
  },
  {
   "cell_type": "code",
   "execution_count": 44,
   "id": "2823f1b0",
   "metadata": {},
   "outputs": [
    {
     "data": {
      "image/png": "[encoded data removed]",
      "text/plain": [
       "<Figure size 640x480 with 1 Axes>"
      ]
     },
     "metadata": {},
     "output_type": "display_data"
    }
   ],
   "source": [
    "import matplotlib.pyplot as plt\n",
    "campreach_df['Date'] = campreach_df['Date'].dt.strftime('%d-%m-%Y').to_numpy()\n",
    "ctr_vals = campreach_df['CTR_pandas'].to_numpy()                # extracted values from col of a dataframe into a var\n",
    "dt_vals = campreach_df['Date']\n",
    "\n",
    "plt.plot(dt_vals, ctr_vals)\n",
    "plt.xticks(rotation=90)\n",
    "plt.show()"
   ]
  },
  {
   "cell_type": "markdown",
   "id": "c4dff6fc",
   "metadata": {},
   "source": [
    "Q9 Solution 3: &emsp;&emsp;&emsp; For outlier/0 values in impressions, we can group by Campaign and impute with the average value "
   ]
  },
  {
   "cell_type": "code",
   "execution_count": 37,
   "id": "8a2fd80a",
   "metadata": {},
   "outputs": [],
   "source": [
    "campreach_df.loc[campreach_df.Impr > 10000, 'Impr'] = campreach_df.groupby('Campaign')['Impr'].mean()"
   ]
  },
  {
   "cell_type": "markdown",
   "id": "aa3250ba",
   "metadata": {},
   "source": [
    "# Section C"
   ]
  },
  {
   "cell_type": "markdown",
   "id": "d6c40e87",
   "metadata": {},
   "source": [
    "Q10 Solution 1: &emsp;&emsp;&emsp; Profit = MonthlyRev - FixedCost"
   ]
  },
  {
   "cell_type": "code",
   "execution_count": 38,
   "id": "663e2e47",
   "metadata": {},
   "outputs": [
    {
     "name": "stdout",
     "output_type": "stream",
     "text": [
      "  Branch   Metro  MonthlyRev  FixedCost  Visitors\n",
      "0    BR1  MetroA      400000     320000     20000\n",
      "1    BR2  MetroB      250000     150000      9000\n",
      "2    BR3  MetroC      160000      90000      4500\n",
      "  Branch   Metro  MonthlyRev  FixedCost  Visitors  Profit\n",
      "0    BR1  MetroA      400000     320000     20000   80000\n",
      "1    BR2  MetroB      250000     150000      9000  100000\n",
      "2    BR3  MetroC      160000      90000      4500   70000\n"
     ]
    }
   ],
   "source": [
    "branchStats = pd.read_excel(r'C:\\Users\\Lenovo\\OneDrive\\Documents\\Tests\\test.xlsx',sheet_name=\"T2Q9A\")\n",
    "print(branchStats)\n",
    "\n",
    "branchStats['Profit'] = branchStats['MonthlyRev'] - branchStats['FixedCost']\n",
    "print(branchStats)"
   ]
  },
  {
   "cell_type": "markdown",
   "id": "f2948722",
   "metadata": {},
   "source": [
    "Q10 Solution 2: &emsp;&emsp;&emsp; KPIs"
   ]
  },
  {
   "cell_type": "code",
   "execution_count": 39,
   "id": "fc2ee77b",
   "metadata": {},
   "outputs": [
    {
     "name": "stdout",
     "output_type": "stream",
     "text": [
      "    Metro   Pop  AvgSpending  Connectivitylndex\n",
      "0  MetroA    6M        60000                  9\n",
      "1  MetroB    4M        45000                  7\n",
      "2  MetroC  1.5M        28000                  5\n"
     ]
    }
   ],
   "source": [
    "metroInfo = pd.read_excel(r'C:\\Users\\Lenovo\\OneDrive\\Documents\\Tests\\test.xlsx',sheet_name=\"T2Q9B\")\n",
    "print(metroInfo)"
   ]
  },
  {
   "cell_type": "code",
   "execution_count": 40,
   "id": "2f8fdd4b",
   "metadata": {},
   "outputs": [
    {
     "data": {
      "text/html": [
       "<div>\n",
       "<style scoped>\n",
       "    .dataframe tbody tr th:only-of-type {\n",
       "        vertical-align: middle;\n",
       "    }\n",
       "\n",
       "    .dataframe tbody tr th {\n",
       "        vertical-align: top;\n",
       "    }\n",
       "\n",
       "    .dataframe thead th {\n",
       "        text-align: right;\n",
       "    }\n",
       "</style>\n",
       "<table border=\"1\" class=\"dataframe\">\n",
       "  <thead>\n",
       "    <tr style=\"text-align: right;\">\n",
       "      <th></th>\n",
       "      <th>Branch</th>\n",
       "      <th>Metro</th>\n",
       "      <th>MonthlyRev</th>\n",
       "      <th>FixedCost</th>\n",
       "      <th>Visitors</th>\n",
       "      <th>Profit</th>\n",
       "      <th>Pop</th>\n",
       "      <th>AvgSpending</th>\n",
       "      <th>Connectivitylndex</th>\n",
       "    </tr>\n",
       "  </thead>\n",
       "  <tbody>\n",
       "    <tr>\n",
       "      <th>0</th>\n",
       "      <td>BR1</td>\n",
       "      <td>MetroA</td>\n",
       "      <td>400000</td>\n",
       "      <td>320000</td>\n",
       "      <td>20000</td>\n",
       "      <td>80000</td>\n",
       "      <td>6M</td>\n",
       "      <td>60000</td>\n",
       "      <td>9</td>\n",
       "    </tr>\n",
       "    <tr>\n",
       "      <th>1</th>\n",
       "      <td>BR2</td>\n",
       "      <td>MetroB</td>\n",
       "      <td>250000</td>\n",
       "      <td>150000</td>\n",
       "      <td>9000</td>\n",
       "      <td>100000</td>\n",
       "      <td>4M</td>\n",
       "      <td>45000</td>\n",
       "      <td>7</td>\n",
       "    </tr>\n",
       "    <tr>\n",
       "      <th>2</th>\n",
       "      <td>BR3</td>\n",
       "      <td>MetroC</td>\n",
       "      <td>160000</td>\n",
       "      <td>90000</td>\n",
       "      <td>4500</td>\n",
       "      <td>70000</td>\n",
       "      <td>1.5M</td>\n",
       "      <td>28000</td>\n",
       "      <td>5</td>\n",
       "    </tr>\n",
       "  </tbody>\n",
       "</table>\n",
       "</div>"
      ],
      "text/plain": [
       "  Branch   Metro  MonthlyRev  FixedCost  Visitors  Profit   Pop  AvgSpending  \\\n",
       "0    BR1  MetroA      400000     320000     20000   80000    6M        60000   \n",
       "1    BR2  MetroB      250000     150000      9000  100000    4M        45000   \n",
       "2    BR3  MetroC      160000      90000      4500   70000  1.5M        28000   \n",
       "\n",
       "   Connectivitylndex  \n",
       "0                  9  \n",
       "1                  7  \n",
       "2                  5  "
      ]
     },
     "execution_count": 40,
     "metadata": {},
     "output_type": "execute_result"
    }
   ],
   "source": [
    "entdata = pd.merge(branchStats, metroInfo, on=\"Metro\", how=\"right\")                         # joining 2 tables\n",
    "entdata"
   ]
  },
  {
   "cell_type": "code",
   "execution_count": 49,
   "id": "905e2f31",
   "metadata": {},
   "outputs": [
    {
     "data": {
      "text/html": [
       "<div>\n",
       "<style scoped>\n",
       "    .dataframe tbody tr th:only-of-type {\n",
       "        vertical-align: middle;\n",
       "    }\n",
       "\n",
       "    .dataframe tbody tr th {\n",
       "        vertical-align: top;\n",
       "    }\n",
       "\n",
       "    .dataframe thead th {\n",
       "        text-align: right;\n",
       "    }\n",
       "</style>\n",
       "<table border=\"1\" class=\"dataframe\">\n",
       "  <thead>\n",
       "    <tr style=\"text-align: right;\">\n",
       "      <th></th>\n",
       "      <th>Branch</th>\n",
       "      <th>Metro</th>\n",
       "      <th>MonthlyRev</th>\n",
       "      <th>FixedCost</th>\n",
       "      <th>Visitors</th>\n",
       "      <th>Profit</th>\n",
       "      <th>Pop</th>\n",
       "      <th>AvgSpending</th>\n",
       "      <th>Connectivitylndex</th>\n",
       "      <th>Profit per Visitor</th>\n",
       "    </tr>\n",
       "  </thead>\n",
       "  <tbody>\n",
       "    <tr>\n",
       "      <th>0</th>\n",
       "      <td>BR1</td>\n",
       "      <td>MetroA</td>\n",
       "      <td>400000</td>\n",
       "      <td>320000</td>\n",
       "      <td>20000</td>\n",
       "      <td>80000</td>\n",
       "      <td>6M</td>\n",
       "      <td>60000</td>\n",
       "      <td>9</td>\n",
       "      <td>4.000000</td>\n",
       "    </tr>\n",
       "    <tr>\n",
       "      <th>1</th>\n",
       "      <td>BR2</td>\n",
       "      <td>MetroB</td>\n",
       "      <td>250000</td>\n",
       "      <td>150000</td>\n",
       "      <td>9000</td>\n",
       "      <td>100000</td>\n",
       "      <td>4M</td>\n",
       "      <td>45000</td>\n",
       "      <td>7</td>\n",
       "      <td>11.111111</td>\n",
       "    </tr>\n",
       "    <tr>\n",
       "      <th>2</th>\n",
       "      <td>BR3</td>\n",
       "      <td>MetroC</td>\n",
       "      <td>160000</td>\n",
       "      <td>90000</td>\n",
       "      <td>4500</td>\n",
       "      <td>70000</td>\n",
       "      <td>1.5M</td>\n",
       "      <td>28000</td>\n",
       "      <td>5</td>\n",
       "      <td>15.555556</td>\n",
       "    </tr>\n",
       "  </tbody>\n",
       "</table>\n",
       "</div>"
      ],
      "text/plain": [
       "  Branch   Metro  MonthlyRev  FixedCost  Visitors  Profit   Pop  AvgSpending  \\\n",
       "0    BR1  MetroA      400000     320000     20000   80000    6M        60000   \n",
       "1    BR2  MetroB      250000     150000      9000  100000    4M        45000   \n",
       "2    BR3  MetroC      160000      90000      4500   70000  1.5M        28000   \n",
       "\n",
       "   Connectivitylndex  Profit per Visitor  \n",
       "0                  9            4.000000  \n",
       "1                  7           11.111111  \n",
       "2                  5           15.555556  "
      ]
     },
     "execution_count": 49,
     "metadata": {},
     "output_type": "execute_result"
    }
   ],
   "source": [
    "entdata['Profit per Visitor'] = entdata['Profit']/entdata['Visitors']\n",
    "# entdata['Visitors Population ratio'] = entdata['Visitors'].astype(int) / entdata['Pop'].astype(int)\n",
    "entdata"
   ]
  },
  {
   "cell_type": "code",
   "execution_count": 41,
   "id": "3d93ecc2",
   "metadata": {},
   "outputs": [
    {
     "name": "stdout",
     "output_type": "stream",
     "text": [
      "0    400000\n",
      "Name: MonthlyRev, dtype: int64 1    250000\n",
      "Name: MonthlyRev, dtype: int64\n"
     ]
    }
   ],
   "source": [
    "# for Metro A\n",
    "revA = entdata.loc[entdata.Metro==\"MetroA\", 'MonthlyRev']\n",
    "revB = entdata.loc[entdata.Metro==\"MetroB\", 'MonthlyRev']\n",
    "print(revA, revB)"
   ]
  }
 ],
 "metadata": {
  "kernelspec": {
   "display_name": "Python 3",
   "language": "python",
   "name": "python3"
  },
  "language_info": {
   "codemirror_mode": {
    "name": "ipython",
    "version": 3
   },
   "file_extension": ".py",
   "mimetype": "text/x-python",
   "name": "python",
   "nbconvert_exporter": "python",
   "pygments_lexer": "ipython3",
   "version": "3.13.0"
  }
 },
 "nbformat": 4,
 "nbformat_minor": 5
}
