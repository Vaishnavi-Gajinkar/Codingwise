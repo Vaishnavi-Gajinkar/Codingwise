{
 "cells": [
  {
   "cell_type": "markdown",
   "id": "feadf470",
   "metadata": {},
   "source": [
    "# Section A\n",
    "\n",
    "Q1 Solution 1\n",
    "\n",
    "\n",
    "=SUMIF(Table1[Region], \"North\",Table1[Sales])\n",
    "\n",
    "The data is saved as a table named Table1. Values from Sales column is added only if Region has a value of 'North'\n",
    "\n",
    "Q1 Solution 2\n",
    "\n",
    "Create a table out of the data using ctrl+T.\n",
    "Create a pivot table using the Insert tab in ribbon.\n",
    "Drag the 'Regions' column in Rows field\n",
    "         'Products' in Column field\n",
    "         and 'Sales' in Values field.\n",
    "Make sure the aggregation of values field is set to SUM\n",
    "\n",
    "Q1 Solution 3\n",
    "\n",
    "Using the filters of the table, select the non-blanks of Sales column.\n",
    "Using the bottom ribbon, check the average value of the Sales column data.\n",
    "Now keep only blanks selected in Sales col. Enter the average value as seen before.\n",
    "\n",
    "Q2 Solution 1"
   ]
  },
  {
   "cell_type": "code",
   "execution_count": 1,
   "id": "d92611a9",
   "metadata": {},
   "outputs": [
    {
     "name": "stdout",
     "output_type": "stream",
     "text": [
      "Department\n",
      "Finance    60000.0\n",
      "HR         51000.0\n",
      "IT         70000.0\n",
      "Name: Salary, dtype: float64\n"
     ]
    }
   ],
   "source": [
    "import pandas as pd\n",
    "data = {\n",
    " 'Employee': ['A','B','C','D','E'],\n",
    " 'Department': ['HR','Finance','Finance','HR','IT'],\n",
    " 'Salary': [50000, 60000, None, 52000, 70000]\n",
    "}\n",
    "df = pd.DataFrame(data)\n",
    "avgSal = df.groupby('Department')['Salary'].mean()                                  # avg salary in each dept\n",
    "print(avgSal)"
   ]
  },
  {
   "cell_type": "markdown",
   "id": "4def4b38",
   "metadata": {},
   "source": [
    "Q2 Solution 2"
   ]
  },
  {
   "cell_type": "code",
   "execution_count": null,
   "id": "0287e694",
   "metadata": {},
   "outputs": [
    {
     "name": "stdout",
     "output_type": "stream",
     "text": [
      "Employee            E\n",
      "Department         IT\n",
      "Salary        70000.0\n",
      "Name: 4, dtype: object\n",
      "4    E\n",
      "Name: Employee, dtype: object\n"
     ]
    }
   ],
   "source": [
    "import pandas as pd\n",
    "data = {\n",
    " 'Employee': ['A','B','C','D','E'],\n",
    " 'Department': ['HR','Finance','Finance','HR','IT'],\n",
    " 'Salary': [50000, 60000, None, 52000, 70000]\n",
    "}\n",
    "df = pd.DataFrame(data)\n",
    "max_emp = df.loc[df['Salary'].idxmax()]                                             # Optimal solution\n",
    "print(max_emp)\n",
    "print(df['Employee'][df['Salary']==df['Salary'].max()])                             #  employee with the maximum salary "
   ]
  },
  {
   "cell_type": "markdown",
   "id": "772eaeb3",
   "metadata": {},
   "source": [
    "Q2 Solution 3\n",
    "\n",
    "Since the other values of dataset have low variance, the missing value can be imputed with departmental average. The department of Finance has 2 values, hence replacing with 0 is not better. Dropping the value is the last option as it leads to loss of data."
   ]
  },
  {
   "cell_type": "code",
   "execution_count": 16,
   "id": "bcd60162",
   "metadata": {},
   "outputs": [
    {
     "data": {
      "text/html": [
       "<div>\n",
       "<style scoped>\n",
       "    .dataframe tbody tr th:only-of-type {\n",
       "        vertical-align: middle;\n",
       "    }\n",
       "\n",
       "    .dataframe tbody tr th {\n",
       "        vertical-align: top;\n",
       "    }\n",
       "\n",
       "    .dataframe thead th {\n",
       "        text-align: right;\n",
       "    }\n",
       "</style>\n",
       "<table border=\"1\" class=\"dataframe\">\n",
       "  <thead>\n",
       "    <tr style=\"text-align: right;\">\n",
       "      <th></th>\n",
       "      <th>Employee</th>\n",
       "      <th>Department</th>\n",
       "      <th>Salary</th>\n",
       "    </tr>\n",
       "  </thead>\n",
       "  <tbody>\n",
       "    <tr>\n",
       "      <th>0</th>\n",
       "      <td>A</td>\n",
       "      <td>HR</td>\n",
       "      <td>50000.0</td>\n",
       "    </tr>\n",
       "    <tr>\n",
       "      <th>1</th>\n",
       "      <td>B</td>\n",
       "      <td>Finance</td>\n",
       "      <td>60000.0</td>\n",
       "    </tr>\n",
       "    <tr>\n",
       "      <th>2</th>\n",
       "      <td>C</td>\n",
       "      <td>Finance</td>\n",
       "      <td>60000.0</td>\n",
       "    </tr>\n",
       "    <tr>\n",
       "      <th>3</th>\n",
       "      <td>D</td>\n",
       "      <td>HR</td>\n",
       "      <td>52000.0</td>\n",
       "    </tr>\n",
       "    <tr>\n",
       "      <th>4</th>\n",
       "      <td>E</td>\n",
       "      <td>IT</td>\n",
       "      <td>70000.0</td>\n",
       "    </tr>\n",
       "  </tbody>\n",
       "</table>\n",
       "</div>"
      ],
      "text/plain": [
       "  Employee Department   Salary\n",
       "0        A         HR  50000.0\n",
       "1        B    Finance  60000.0\n",
       "2        C    Finance  60000.0\n",
       "3        D         HR  52000.0\n",
       "4        E         IT  70000.0"
      ]
     },
     "execution_count": 16,
     "metadata": {},
     "output_type": "execute_result"
    }
   ],
   "source": [
    "df['Salary'] = df.groupby('Department')['Salary'].transform(lambda x: x.fillna(x.mean()))               # Optimal solution\n",
    "df"
   ]
  },
  {
   "cell_type": "markdown",
   "id": "df1f07b0",
   "metadata": {},
   "source": [
    "Q3 Solution 1\n",
    "\n",
    "SELECT CustomerID, SUM(Amount) FROM Orders GROUP BY CustomerID\n",
    "\n",
    "SELECT CustomerID, SUM(COALESCE(Amount,0)) AS total_revenue FROM Orders GROUP BY CustomerID;                                    # Optimal solution\n",
    "\n",
    "\n",
    "Q3 Solution 2\n",
    "\n",
    "SELECT CustomerID, SUM(Amount) as Total FROM Orders GROUP BY CustomerID ORDER BY Total DESC LIMIT 2\n",
    "\n",
    "Q3 Solution 3\n",
    "\n",
    "SQL result will not be affected because of Null values, hence it can be ignored. However filtering the results with a WHERE clause can be opted.\n",
    "\n",
    "Q4 Solution 1"
   ]
  },
  {
   "cell_type": "code",
   "execution_count": 3,
   "id": "c8692f3a",
   "metadata": {},
   "outputs": [
    {
     "name": "stdout",
     "output_type": "stream",
     "text": [
      "Average 31.142857142857142\n",
      "Median 31.0\n",
      "Std Div 2.2314999074019015\n"
     ]
    }
   ],
   "source": [
    "import numpy as np\n",
    "temps = np.array([30, 32, 28, 31, 29, 35, 33])\n",
    "\n",
    "avg = np.mean(temps)\n",
    "medn = np.median(temps)\n",
    "stdiv = np.std(temps)\n",
    "\n",
    "print(\"Average\", avg)\n",
    "print(\"Median\", medn)\n",
    "print(\"Std Div\", stdiv)"
   ]
  },
  {
   "cell_type": "markdown",
   "id": "9e4bcd76",
   "metadata": {},
   "source": [
    "Q4 Solution 2"
   ]
  },
  {
   "cell_type": "code",
   "execution_count": 17,
   "id": "799a3cde",
   "metadata": {},
   "outputs": [
    {
     "name": "stdout",
     "output_type": "stream",
     "text": [
      "[32 35 33]\n",
      "3\n",
      "3\n"
     ]
    }
   ],
   "source": [
    "import numpy as np\n",
    "temps = np.array([30, 32, 28, 31, 29, 35, 33])\n",
    "\n",
    "avg = np.mean(temps)\n",
    "medn = np.median(temps)\n",
    "stdiv = np.std(temps)\n",
    "\n",
    "print(temps[temps>np.mean(temps)])\n",
    "count = len(temps[temps>np.mean(temps)])\n",
    "print(count)\n",
    "\n",
    "days_above_mean = np.sum(temps > avg)                           # optimal solution\n",
    "print(days_above_mean)"
   ]
  },
  {
   "cell_type": "markdown",
   "id": "fcb14858",
   "metadata": {},
   "source": [
    "Q4 Solution 3\n",
    "\n",
    "Since NAN values affect the average, the np.nan_to_num(data, nan=value) function can be used to replace all nan fields with the value"
   ]
  },
  {
   "cell_type": "code",
   "execution_count": 18,
   "id": "a14037b2",
   "metadata": {},
   "outputs": [
    {
     "name": "stdout",
     "output_type": "stream",
     "text": [
      "31.142857142857142\n",
      "31.0\n",
      "2.2314999074019015\n"
     ]
    }
   ],
   "source": [
    "# nan-safe functions\n",
    "print(np.nanmean(temps))                                        # optimal solution\n",
    "print(np.nanmedian(temps))\n",
    "print(np.nanstd(temps))"
   ]
  },
  {
   "cell_type": "markdown",
   "id": "a4719de1",
   "metadata": {},
   "source": [
    "# Section B\n",
    "\n",
    "Q5 Solution 1\n",
    "\n",
    "From the data it is clear that product B shows consistent growth from Jan to Feb\n",
    "\n",
    "Q5 Solution 2 - DAX: MoM_Growth = DIVIDE(SUM(Sales[Sales]) - CALCULATE(SUM(Sales[Sales]), PREVIOUSMONTH('Calendar'[Date])), CALCULATE(SUM(Sales[Sales]), PREVIOUSMONTH('Calendar'[Date])),0)\n",
    "\n",
    "Explaination : numerator:(subtract current sum from previous month's sale sum) / denominator:total sales, alternate_val_if_Divby0\n",
    "\n",
    "Q5 Solution 3\n",
    "\n",
    "Q6 Solution 1\n"
   ]
  },
  {
   "cell_type": "code",
   "execution_count": 19,
   "id": "6d4d03c3",
   "metadata": {},
   "outputs": [
    {
     "name": "stdout",
     "output_type": "stream",
     "text": [
      "average MonthlyCharges for churned customers  1100.0\n",
      "average MonthlyCharges for non-churned customers  750.0\n",
      "\n",
      "Churn\n",
      "No      750.0\n",
      "Yes    1100.0\n",
      "Name: MonthlyCharges, dtype: float64\n"
     ]
    }
   ],
   "source": [
    "import pandas as pd\n",
    "\n",
    "data = {\n",
    " 'CustomerID': ['C1','C2','C3','C4'],\n",
    " 'Tenure': [12,5,3,20],\n",
    " 'MonthlyCharges': [1000,700,1200,800],\n",
    " 'Churn':['Yes','No','Yes','No']\n",
    "}\n",
    "df = pd.DataFrame(data)\n",
    "\n",
    "ch_yes = df['MonthlyCharges'][df[\"Churn\"]=='Yes'].mean()\n",
    "ch_no = df['MonthlyCharges'][df[\"Churn\"]=='No'].mean()\n",
    "\n",
    "print(\"average MonthlyCharges for churned customers \", ch_yes)\n",
    "print(\"average MonthlyCharges for non-churned customers \", ch_no)\n",
    "print(f'\\n{df.groupby('Churn')['MonthlyCharges'].mean()}')                      # optimal solution"
   ]
  },
  {
   "cell_type": "markdown",
   "id": "e22f2125",
   "metadata": {},
   "source": [
    "Q6 Solution 2\n",
    "From the above result we see that avg monthly charges of 1100 has caused churning of customers\n",
    "and monthly avg charges of 750 has not caused churning out of customers\n",
    "Hence we can conclude that, higher charges seem to increase churn \n",
    "\n",
    "Q6 Solution 3"
   ]
  },
  {
   "cell_type": "code",
   "execution_count": 20,
   "id": "f24f297b",
   "metadata": {},
   "outputs": [
    {
     "name": "stdout",
     "output_type": "stream",
     "text": [
      "Avg tenure before churning out 7.5\n",
      "Avg tenure of users who've not churned out yet 12.5\n",
      "\n",
      "Churn\n",
      "No     12.5\n",
      "Yes     7.5\n",
      "Name: Tenure, dtype: float64\n"
     ]
    }
   ],
   "source": [
    "import pandas as pd\n",
    "\n",
    "data = {\n",
    " 'CustomerID': ['C1','C2','C3','C4'],\n",
    " 'Tenure': [12,5,3,20],\n",
    " 'MonthlyCharges': [1000,700,1200,800],\n",
    " 'Churn':['Yes','No','Yes','No']\n",
    "}\n",
    "df = pd.DataFrame(data)\n",
    "\n",
    "ch_yes = df['Tenure'][df['Churn']=='Yes'].mean()\n",
    "ch_no = df['Tenure'][df['Churn']=='No'].mean()\n",
    "\n",
    "print(\"Avg tenure before churning out\", ch_yes)                 # 7.5\n",
    "print(\"Avg tenure of users who've not churned out yet\", ch_no)  # 12.5\n",
    "\n",
    "print(f'\\n{df.groupby('Churn')['Tenure'].mean()}')"
   ]
  },
  {
   "cell_type": "markdown",
   "id": "84abd481",
   "metadata": {},
   "source": [
    "From above result it is clear that tenure does not contribute to churn.\n",
    "\n",
    "Q7 Solution 1\n",
    "average spend per user per day.\n",
    "\n",
    " SELECT UserID, AVG(Amount) AS spend FROM Transactions GROUP BY UserID, Date\n",
    "\n",
    "SELECT Date, SUM(Amount)/COUNT(DISTINCT UserID) AS avg_spend FROM Transactions GROUP BY Date;                   # optimal solution"
   ]
  },
  {
   "cell_type": "markdown",
   "id": "d2bad418",
   "metadata": {},
   "source": [
    "Q7 Solution 2\n",
    "day with the highest total spend.\n",
    "\n",
    " SELECT Date, SUM(Amount) AS highest_spend FROM Transactions GROUP BY Date ORDER BY highest_spend DESC\n",
    "\n",
    "WITH daily AS ( SELECT Date, SUM(Amount) AS total FROM Transactions GROUP BY Date)  \n",
    "SELECT Date FROM daily WHERE total = (SELECT MAX(total) FROM daily);    # optimal solution\n",
    "\n",
    "\n",
    "Q7 Solution 3\n",
    "\n",
    " SELECT *, RANK() OVER(PARTITION BY Date ORDER BY highest_spend DESC) as rnk\n",
    " FROM (SELECT Date, SUM(Amount) AS highest_spend FROM Transactions GROUP BY Date) as sub WHERE rnk=1\n",
    "\n",
    "Q8 Solution 1\n",
    "\n",
    " SELECT *, TIMEDIFF(Logout_Time, Login_Time) as HrsWorked FROM EmployeeLogData \n"
   ]
  },
  {
   "cell_type": "code",
   "execution_count": 22,
   "id": "059c2062",
   "metadata": {},
   "outputs": [
    {
     "name": "stdout",
     "output_type": "stream",
     "text": [
      "  Employee Login_Time Logout_Time  TotalHrsWorked\n",
      "0        A      09:00       17:00 0 days 08:00:00\n",
      "1        B      10:00       16:00 0 days 06:00:00\n",
      "2        C      09:30       18:00 0 days 08:30:00\n"
     ]
    }
   ],
   "source": [
    "import pandas as pd\n",
    "import numpy as np\n",
    "\n",
    "data = {\n",
    "    'Employee':['A','B','C'],\n",
    "    'Login_Time':['09:00','10:00','09:30'],\n",
    "    'Logout_Time':['17:00','16:00','18:00']\n",
    "}\n",
    "df = pd.DataFrame(data)\n",
    "\n",
    "# np_login = np.datetime64(df['Login_Time'])\n",
    "login = data['Login_Time']\n",
    "pd_login = pd.to_datetime(login, format='mixed')\n",
    "np_login = pd_login.to_numpy()\n",
    "\n",
    "# np_logout = np.datetime64(df['Logout_Time'])\n",
    "logout = data['Logout_Time']\n",
    "pd_logout = pd.to_datetime(logout, format='mixed')\n",
    "np_logout = pd_logout.to_numpy()\n",
    "\n",
    "df['TotalHrsWorked'] = np_logout - np_login\n",
    "\n",
    "# print(np_login)\n",
    "# print(np_logout)\n",
    "print(df)"
   ]
  },
  {
   "cell_type": "code",
   "execution_count": 23,
   "id": "7ae9827c",
   "metadata": {},
   "outputs": [
    {
     "data": {
      "text/html": [
       "<div>\n",
       "<style scoped>\n",
       "    .dataframe tbody tr th:only-of-type {\n",
       "        vertical-align: middle;\n",
       "    }\n",
       "\n",
       "    .dataframe tbody tr th {\n",
       "        vertical-align: top;\n",
       "    }\n",
       "\n",
       "    .dataframe thead th {\n",
       "        text-align: right;\n",
       "    }\n",
       "</style>\n",
       "<table border=\"1\" class=\"dataframe\">\n",
       "  <thead>\n",
       "    <tr style=\"text-align: right;\">\n",
       "      <th></th>\n",
       "      <th>Employee</th>\n",
       "      <th>Login_Time</th>\n",
       "      <th>Logout_Time</th>\n",
       "      <th>TotalHrsWorked</th>\n",
       "      <th>Login</th>\n",
       "      <th>Logout</th>\n",
       "      <th>Work_Hours</th>\n",
       "    </tr>\n",
       "  </thead>\n",
       "  <tbody>\n",
       "    <tr>\n",
       "      <th>0</th>\n",
       "      <td>A</td>\n",
       "      <td>09:00</td>\n",
       "      <td>17:00</td>\n",
       "      <td>0 days 08:00:00</td>\n",
       "      <td>1900-01-01 09:00:00</td>\n",
       "      <td>1900-01-01 17:00:00</td>\n",
       "      <td>8.0</td>\n",
       "    </tr>\n",
       "    <tr>\n",
       "      <th>1</th>\n",
       "      <td>B</td>\n",
       "      <td>10:00</td>\n",
       "      <td>16:00</td>\n",
       "      <td>0 days 06:00:00</td>\n",
       "      <td>1900-01-01 10:00:00</td>\n",
       "      <td>1900-01-01 16:00:00</td>\n",
       "      <td>6.0</td>\n",
       "    </tr>\n",
       "    <tr>\n",
       "      <th>2</th>\n",
       "      <td>C</td>\n",
       "      <td>09:30</td>\n",
       "      <td>18:00</td>\n",
       "      <td>0 days 08:30:00</td>\n",
       "      <td>1900-01-01 09:30:00</td>\n",
       "      <td>1900-01-01 18:00:00</td>\n",
       "      <td>8.5</td>\n",
       "    </tr>\n",
       "  </tbody>\n",
       "</table>\n",
       "</div>"
      ],
      "text/plain": [
       "  Employee Login_Time Logout_Time  TotalHrsWorked               Login  \\\n",
       "0        A      09:00       17:00 0 days 08:00:00 1900-01-01 09:00:00   \n",
       "1        B      10:00       16:00 0 days 06:00:00 1900-01-01 10:00:00   \n",
       "2        C      09:30       18:00 0 days 08:30:00 1900-01-01 09:30:00   \n",
       "\n",
       "               Logout  Work_Hours  \n",
       "0 1900-01-01 17:00:00         8.0  \n",
       "1 1900-01-01 16:00:00         6.0  \n",
       "2 1900-01-01 18:00:00         8.5  "
      ]
     },
     "execution_count": 23,
     "metadata": {},
     "output_type": "execute_result"
    }
   ],
   "source": [
    "df['Login'] = pd.to_datetime(df['Login_Time'], format='%H:%M')\n",
    "df['Logout'] = pd.to_datetime(df['Logout_Time'], format='%H:%M')\n",
    "df['Work_Hours'] = (df['Logout'] - df['Login']).dt.seconds/3600\n",
    "df"
   ]
  },
  {
   "cell_type": "markdown",
   "id": "9550701f",
   "metadata": {},
   "source": [
    "Q8 Solution 2\n",
    "\n",
    "SELECT *, RANK() OVER(PARTITION BY Employee ORDER BY HrsWorked DESC) as rnk \n",
    "FROM (SELECT *, TIMEDIFF(Logout_Time, Login_Time) as HrsWorked FROM EmployeeLogData ) as sub WHERE rnk=1"
   ]
  },
  {
   "cell_type": "code",
   "execution_count": 8,
   "id": "032cb6bf",
   "metadata": {},
   "outputs": [
    {
     "name": "stdout",
     "output_type": "stream",
     "text": [
      "  Employee Login_Time Logout_Time  TotalHrsWorked\n",
      "0        A      09:00       17:00 0 days 08:00:00\n",
      "1        B      10:00       16:00 0 days 06:00:00\n",
      "2        C      09:30       18:00 0 days 08:30:00\n"
     ]
    }
   ],
   "source": [
    "import pandas as pd\n",
    "import numpy as np\n",
    "\n",
    "data = {\n",
    "    'Employee':['A','B','C'],\n",
    "    'Login_Time':['09:00','10:00','09:30'],\n",
    "    'Logout_Time':['17:00','16:00','18:00']\n",
    "}\n",
    "df = pd.DataFrame(data)\n",
    "\n",
    "login = data['Login_Time']\n",
    "pd_login = pd.to_datetime(login, format='mixed')\n",
    "np_login = pd_login.to_numpy()\n",
    "\n",
    "logout = data['Logout_Time']\n",
    "pd_logout = pd.to_datetime(logout, format='mixed')\n",
    "np_logout = pd_logout.to_numpy()\n",
    "\n",
    "df['TotalHrsWorked'] = np_logout - np_login\n",
    "\n",
    "sorted_df = df.sort_values(by='TotalHrsWorked', ascending=False)\n",
    "print(df)"
   ]
  },
  {
   "cell_type": "markdown",
   "id": "cce57ce5",
   "metadata": {},
   "source": [
    "Q8 Solution 3\n",
    "\n",
    "If the Logout column has blank values, then the median logout time can be calculated for that particular employee and the Null value can be replaced with it."
   ]
  },
  {
   "cell_type": "code",
   "execution_count": 9,
   "id": "77d5291a",
   "metadata": {},
   "outputs": [
    {
     "name": "stdout",
     "output_type": "stream",
     "text": [
      "  Employee Login_Time         Logout_Time\n",
      "0        A      09:00 2025-09-24 17:00:00\n",
      "1        B      10:00 2025-09-24 16:00:00\n",
      "2        C      09:30 2025-09-24 18:00:00\n"
     ]
    }
   ],
   "source": [
    "import pandas as pd\n",
    "import numpy as np\n",
    "\n",
    "data = {\n",
    "    'Employee':['A','B','C'],\n",
    "    'Login_Time':['09:00','10:00','09:30'],\n",
    "    'Logout_Time':['17:00','16:00','18:00']\n",
    "}\n",
    "df = pd.DataFrame(data)\n",
    "\n",
    "logout = data['Logout_Time']\n",
    "pd_logout = pd.to_datetime(logout, format='mixed')\n",
    "np_logout = pd_logout.to_numpy()\n",
    "\n",
    "df['Logout_Time'] = np_logout\n",
    "\n",
    "avg_logout_time = df.groupby('Employee')['Logout_Time'].median()            # calc median logout time for each emp\n",
    "df['Logout_Time'].fillna(avg_logout_time)\n",
    "\n",
    "print(df)\n"
   ]
  },
  {
   "cell_type": "markdown",
   "id": "1c80dc87",
   "metadata": {},
   "source": [
    "Q9 Solution 1\n",
    "=[@Clicks]/[@Impressions]\n",
    "\n",
    "Q9 Solution 2"
   ]
  },
  {
   "cell_type": "code",
   "execution_count": 10,
   "id": "c11b5f70",
   "metadata": {},
   "outputs": [
    {
     "name": "stdout",
     "output_type": "stream",
     "text": [
      "['2025-01-01T00:00:00.000000000' '2025-01-01T00:00:00.000000000'\n",
      " '2025-01-02T00:00:00.000000000']\n"
     ]
    },
    {
     "data": {
      "image/png": "[encoded data removed]",
      "text/plain": [
       "<Figure size 640x480 with 1 Axes>"
      ]
     },
     "metadata": {},
     "output_type": "display_data"
    }
   ],
   "source": [
    "import pandas as pd\n",
    "import numpy as np\n",
    "import matplotlib.pyplot as plt\n",
    "\n",
    "data = {\n",
    "    'Date':[\"1-Jan-2025\", \"1-Jan-2025\", \"2-Jan-2025\"],\n",
    "    'Campaign':['X','Y','X'],\n",
    "    'Impressions':[1000,1200,1100]\n",
    "}\n",
    "\n",
    "df = pd.DataFrame(data)\n",
    "\n",
    "dayt = data['Date']\n",
    "camp = data['Campaign']\n",
    "impresn = data['Impressions']\n",
    "\n",
    "pd_date = pd.to_datetime(dayt, format = 'mixed')\n",
    "np_date = pd_date.to_numpy()\n",
    "print(np_date)\n",
    "\n",
    "plt.plot(np_date, impresn)\n",
    "plt.show()"
   ]
  },
  {
   "cell_type": "markdown",
   "id": "b480b2ab",
   "metadata": {},
   "source": [
    "Q9 Solution 3\n",
    "\n",
    "If Impressions col has blank/null values, it should be filled with the average impressions per day value, to avoid CTR from giving error"
   ]
  },
  {
   "cell_type": "code",
   "execution_count": 11,
   "id": "0bc45f74",
   "metadata": {},
   "outputs": [
    {
     "name": "stdout",
     "output_type": "stream",
     "text": [
      "['2025-01-01T00:00:00.000000000' '2025-01-01T00:00:00.000000000'\n",
      " '2025-01-02T00:00:00.000000000']\n"
     ]
    },
    {
     "data": {
      "text/plain": [
       "0    1000\n",
       "1    1200\n",
       "2    1100\n",
       "Name: Impressions, dtype: int64"
      ]
     },
     "execution_count": 11,
     "metadata": {},
     "output_type": "execute_result"
    }
   ],
   "source": [
    "import pandas as pd\n",
    "\n",
    "data = {\n",
    "    'Date':[\"1-Jan-2025\", \"1-Jan-2025\", \"2-Jan-2025\"],\n",
    "    'Campaign':['X','Y','X'],\n",
    "    'Impressions':[1000,1200,1100]\n",
    "}\n",
    "\n",
    "df = pd.DataFrame(data)\n",
    "\n",
    "dayt = data['Date']\n",
    "camp = data['Campaign']\n",
    "impresn = data['Impressions']\n",
    "\n",
    "pd_date = pd.to_datetime(dayt, format = 'mixed')\n",
    "np_date = pd_date.to_numpy()\n",
    "print(np_date)\n",
    "\n",
    "avg_imprn_per_day = df.groupby('Date')['Impressions'].mean()\n",
    "df['Impressions'].fillna(avg_imprn_per_day)#, inplace=True)          # code to fill blank cells in Impression col\n"
   ]
  },
  {
   "cell_type": "markdown",
   "id": "b8105b0a",
   "metadata": {},
   "source": [
    "# Section C\n",
    "Q10 Solution"
   ]
  },
  {
   "cell_type": "code",
   "execution_count": 12,
   "id": "cd10bafd",
   "metadata": {},
   "outputs": [
    {
     "name": "stdout",
     "output_type": "stream",
     "text": [
      "\n",
      "combined table\n",
      "   StoreID    City  MonthlySales  ProfitMargin  CustomerFootfall Population  \\\n",
      "0      S1   Delhi        200000          0.20             10000        20M   \n",
      "1      S3  Indore        100000          0.25              6000         3M   \n",
      "2      S2    Pune        150000          0.15              8000         8M   \n",
      "\n",
      "   AvgIncome  CompetitorsCount  \n",
      "0      35000                10  \n",
      "1      25000                 2  \n",
      "2      40000                 6  \n",
      "\n",
      "['StoreID,City,MonthlySales,ProfitMargin,CustomerFootfall,Population,AvgIncome,CompetitorsCount'\n",
      " 'S1,Delhi,200000,0.2,10000,20M,35000,10'\n",
      " 'S3,Indore,100000,0.25,6000,3M,25000,2'\n",
      " 'S2,Pune,150000,0.15,8000,8M,40000,6']\n"
     ]
    }
   ],
   "source": [
    "import numpy as np\n",
    "import pandas as pd\n",
    "\n",
    "storePerf = pd.read_csv(r'C:\\Users\\Lenovo\\OneDrive\\Documents\\Python\\Notes\\Python All Lecture Notes and Datasets\\StorePerformance.csv')\n",
    "ctDemog = pd.read_csv(r'C:\\Users\\Lenovo\\OneDrive\\Documents\\Python\\Notes\\Python All Lecture Notes and Datasets\\CityDemographics.csv')\n",
    "\n",
    "# print(\"Store Table\\n\",storePerf)\n",
    "# print(\"\\nCity Table\\n\", ctDemog)\n",
    "\n",
    "sales_data = pd.merge(storePerf, ctDemog, on=\"City\", how=\"outer\")\n",
    "print(\"\\ncombined table\\n\", sales_data)\n",
    "sales_data.to_csv(\"combined_sales_data.csv\", index=False)\n",
    "\n",
    "print()\n",
    "raw_data = np.loadtxt(r\"C:\\Users\\Lenovo\\OneDrive\\Documents\\Python\\CodingWise\\Assesments\\combined_sales_data.csv\", dtype='str')\n",
    "# sid, city, monthlysales, profitmargin, custff, populn, avgInc, compcnt = raw_data\n",
    "\n",
    "print(raw_data)"
   ]
  }
 ],
 "metadata": {
  "kernelspec": {
   "display_name": "Python 3",
   "language": "python",
   "name": "python3"
  },
  "language_info": {
   "codemirror_mode": {
    "name": "ipython",
    "version": 3
   },
   "file_extension": ".py",
   "mimetype": "text/x-python",
   "name": "python",
   "nbconvert_exporter": "python",
   "pygments_lexer": "ipython3",
   "version": "3.13.0"
  }
 },
 "nbformat": 4,
 "nbformat_minor": 5
}
