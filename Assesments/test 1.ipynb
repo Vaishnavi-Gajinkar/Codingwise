{
 "cells": [
  {
   "cell_type": "markdown",
   "id": "feadf470",
   "metadata": {},
   "source": [
    "# Section A\n",
    "\n",
    "Q1 Solution 1\n",
    "\n",
    "\n",
    "=SUMIF(Table1[Region], \"North\",Table1[Sales])\n",
    "\n",
    "The data is saved as a table named Table1. Values from Sales column is added only if Region has a value of 'North'\n",
    "\n",
    "Q1 Solution 2\n",
    "\n",
    "Create a table out of the data using ctrl+T.\n",
    "Create a pivot table using the Insert tab in ribbon.\n",
    "Drag the 'Regions' column in Rows field\n",
    "         'Products' in Column field\n",
    "         and 'Sales' in Values field.\n",
    "Make sure the aggregation of values field is set to SUM\n",
    "\n",
    "Q1 Solution 3\n",
    "\n",
    "Using the filters of the table, select the non-blanks of Sales column.\n",
    "Using the bottom ribbon, check the average value of the Sales column data.\n",
    "Now keep only blanks selected in Sales col. Enter the average value as seen before.\n",
    "\n",
    "Q2 Solution 1"
   ]
  },
  {
   "cell_type": "code",
   "execution_count": 9,
   "id": "d92611a9",
   "metadata": {},
   "outputs": [
    {
     "name": "stdout",
     "output_type": "stream",
     "text": [
      "Department\n",
      "Finance    60000.0\n",
      "HR         51000.0\n",
      "IT         70000.0\n",
      "Name: Salary, dtype: float64\n"
     ]
    }
   ],
   "source": [
    "import pandas as pd\n",
    "data = {\n",
    " 'Employee': ['A','B','C','D','E'],\n",
    " 'Department': ['HR','Finance','Finance','HR','IT'],\n",
    " 'Salary': [50000, 60000, None, 52000, 70000]\n",
    "}\n",
    "df = pd.DataFrame(data)\n",
    "avgSal = df.groupby('Department')['Salary'].mean()                                  # avg salary in each dept\n",
    "print(avgSal)"
   ]
  },
  {
   "cell_type": "markdown",
   "id": "4def4b38",
   "metadata": {},
   "source": [
    "Q2 Solution 2"
   ]
  },
  {
   "cell_type": "code",
   "execution_count": 10,
   "id": "0287e694",
   "metadata": {},
   "outputs": [
    {
     "name": "stdout",
     "output_type": "stream",
     "text": [
      "4    E\n",
      "Name: Employee, dtype: object\n"
     ]
    }
   ],
   "source": [
    "import pandas as pd\n",
    "data = {\n",
    " 'Employee': ['A','B','C','D','E'],\n",
    " 'Department': ['HR','Finance','Finance','HR','IT'],\n",
    " 'Salary': [50000, 60000, None, 52000, 70000]\n",
    "}\n",
    "df = pd.DataFrame(data)\n",
    "\n",
    "print(df['Employee'][df['Salary']==df['Salary'].max()])                             #  employee with the maximum salary "
   ]
  },
  {
   "cell_type": "markdown",
   "id": "772eaeb3",
   "metadata": {},
   "source": [
    "Q2 Solution 3\n",
    "\n",
    "Since the other values of dataset have low variance, the missing value can be imputed with departmental average. The department of Finance has 2 values, hence replacing with 0 is not better. Dropping the value is the last option as it leads to loss of data.\n",
    "\n",
    "Q3 Solution 1\n",
    "\n",
    "SELECT CustomerID, SUM(Amount) FROM Orders GROUP BY CustomerID\n",
    "\n",
    "Q3 Solution 2\n",
    "\n",
    "SELECT CustomerID, SUM(Amount) as Total FROM Orders GROUP BY CustomerID ORDER BY Total DESC LIMIT 2\n",
    "\n",
    "Q3 Solution 3\n",
    "\n",
    "SQL result will not be affected because of Null values, hence it can be ignored. However filtering the results with a WHERE clause can be opted.\n",
    "\n",
    "Q4 Solution 1"
   ]
  },
  {
   "cell_type": "code",
   "execution_count": 11,
   "id": "c8692f3a",
   "metadata": {},
   "outputs": [
    {
     "name": "stdout",
     "output_type": "stream",
     "text": [
      "Average 31.142857142857142\n",
      "Median 31.0\n",
      "Std Div 2.2314999074019015\n"
     ]
    }
   ],
   "source": [
    "import numpy as np\n",
    "temps = np.array([30, 32, 28, 31, 29, 35, 33])\n",
    "\n",
    "avg = np.mean(temps)\n",
    "medn = np.median(temps)\n",
    "stdiv = np.std(temps)\n",
    "\n",
    "print(\"Average\", avg)\n",
    "print(\"Median\", medn)\n",
    "print(\"Std Div\", stdiv)"
   ]
  },
  {
   "cell_type": "markdown",
   "id": "9e4bcd76",
   "metadata": {},
   "source": [
    "Q4 Solution 2"
   ]
  },
  {
   "cell_type": "code",
   "execution_count": 12,
   "id": "799a3cde",
   "metadata": {},
   "outputs": [
    {
     "name": "stdout",
     "output_type": "stream",
     "text": [
      "[32 35 33]\n",
      "3\n"
     ]
    }
   ],
   "source": [
    "import numpy as np\n",
    "temps = np.array([30, 32, 28, 31, 29, 35, 33])\n",
    "\n",
    "avg = np.mean(temps)\n",
    "medn = np.median(temps)\n",
    "stdiv = np.std(temps)\n",
    "\n",
    "print(temps[temps>np.mean(temps)])\n",
    "count = len(temps[temps>np.mean(temps)])\n",
    "print(count)"
   ]
  },
  {
   "cell_type": "markdown",
   "id": "a4719de1",
   "metadata": {},
   "source": [
    "Q4 Solution 3\n",
    "\n",
    "Since NAN values affect the average, the np.nan_to_num(data, nan=value) function can be used to replace all nan fields with the value\n",
    "\n",
    "# Section B\n",
    "\n",
    "Q5 Solution 1\n",
    "\n",
    "From the data it is clear that product B shows consistent growth from Jan to Feb\n",
    "\n",
    "Q5 Solution 2\n",
    "\n",
    "Q5 Solution 3\n",
    "\n",
    "Q6 Solution 1\n"
   ]
  },
  {
   "cell_type": "code",
   "execution_count": 13,
   "id": "6d4d03c3",
   "metadata": {},
   "outputs": [
    {
     "name": "stdout",
     "output_type": "stream",
     "text": [
      "average MonthlyCharges for churned customers  1100.0\n",
      "average MonthlyCharges for non-churned customers  750.0\n"
     ]
    }
   ],
   "source": [
    "import pandas as pd\n",
    "\n",
    "data = {\n",
    " 'CustomerID': ['C1','C2','C3','C4'],\n",
    " 'Tenure': [12,5,3,20],\n",
    " 'MonthlyCharges': [1000,700,1200,800],\n",
    " 'Churn':['Yes','No','Yes','No']\n",
    "}\n",
    "df = pd.DataFrame(data)\n",
    "\n",
    "ch_yes = df['MonthlyCharges'][df[\"Churn\"]=='Yes'].mean()\n",
    "ch_no = df['MonthlyCharges'][df[\"Churn\"]=='No'].mean()\n",
    "\n",
    "print(\"average MonthlyCharges for churned customers \", ch_yes)\n",
    "print(\"average MonthlyCharges for non-churned customers \", ch_no)"
   ]
  },
  {
   "cell_type": "markdown",
   "id": "e22f2125",
   "metadata": {},
   "source": [
    "Q6 Solution 2\n",
    "From the above result we see that avg monthly charges of 1100 has caused churning of customers\n",
    "and monthly avg charges of 750 has not caused churning out of customers\n",
    "Hence we can conclude that, higher charges seem to increase churn \n",
    "\n",
    "Q6 Solution 3"
   ]
  },
  {
   "cell_type": "code",
   "execution_count": 14,
   "id": "f24f297b",
   "metadata": {},
   "outputs": [
    {
     "name": "stdout",
     "output_type": "stream",
     "text": [
      "Avg tenure before churning out 7.5\n",
      "Avg tenure of users who've not churned out yet 12.5\n"
     ]
    }
   ],
   "source": [
    "import pandas as pd\n",
    "\n",
    "data = {\n",
    " 'CustomerID': ['C1','C2','C3','C4'],\n",
    " 'Tenure': [12,5,3,20],\n",
    " 'MonthlyCharges': [1000,700,1200,800],\n",
    " 'Churn':['Yes','No','Yes','No']\n",
    "}\n",
    "df = pd.DataFrame(data)\n",
    "\n",
    "ch_yes = df['Tenure'][df['Churn']=='Yes'].mean()\n",
    "ch_no = df['Tenure'][df['Churn']=='No'].mean()\n",
    "\n",
    "print(\"Avg tenure before churning out\", ch_yes)                 # 7.5\n",
    "print(\"Avg tenure of users who've not churned out yet\", ch_no)  # 12.5"
   ]
  },
  {
   "cell_type": "markdown",
   "id": "d2bad418",
   "metadata": {},
   "source": [
    "From above result it is clear that tenure does not contribute to churn.\n",
    "\n",
    "Q7 Solution 1\n",
    "average spend per user per day.\n",
    "\n",
    " SELECT UserID, AVG(Amount) AS spend FROM Transactions GROUP BY UserID, Date\n",
    "\n",
    "Q7 Solution 2\n",
    "day with the highest total spend.\n",
    "\n",
    " SELECT Date, SUM(Amount) AS highest_spend FROM Transactions GROUP BY Date ORDER BY highest_spend DESC\n",
    "\n",
    "Q7 Solution 3\n",
    "\n",
    " SELECT *, RANK() OVER(PARTITION BY Date ORDER BY highest_spend DESC) as rnk\n",
    " FROM (SELECT Date, SUM(Amount) AS highest_spend FROM Transactions GROUP BY Date) as sub WHERE rnk=1\n",
    "\n",
    "Q8 Solution 1\n",
    "\n",
    " SELECT *, TIMEDIFF(Logout_Time, Login_Time) as HrsWorked FROM EmployeeLogData \n"
   ]
  },
  {
   "cell_type": "code",
   "execution_count": 6,
   "id": "059c2062",
   "metadata": {},
   "outputs": [
    {
     "name": "stdout",
     "output_type": "stream",
     "text": [
      "  Employee Login_Time Logout_Time  TotalHrsWorked\n",
      "0        A      09:00       17:00 0 days 08:00:00\n",
      "1        B      10:00       16:00 0 days 06:00:00\n",
      "2        C      09:30       18:00 0 days 08:30:00\n"
     ]
    }
   ],
   "source": [
    "import pandas as pd\n",
    "import numpy as np\n",
    "\n",
    "data = {\n",
    "    'Employee':['A','B','C'],\n",
    "    'Login_Time':['09:00','10:00','09:30'],\n",
    "    'Logout_Time':['17:00','16:00','18:00']\n",
    "}\n",
    "df = pd.DataFrame(data)\n",
    "\n",
    "# np_login = np.datetime64(df['Login_Time'])\n",
    "login = data['Login_Time']\n",
    "pd_login = pd.to_datetime(login, format='mixed')\n",
    "np_login = pd_login.to_numpy()\n",
    "\n",
    "# np_logout = np.datetime64(df['Logout_Time'])\n",
    "logout = data['Logout_Time']\n",
    "pd_logout = pd.to_datetime(logout, format='mixed')\n",
    "np_logout = pd_logout.to_numpy()\n",
    "\n",
    "df['TotalHrsWorked'] = np_logout - np_login\n",
    "\n",
    "# print(np_login)\n",
    "# print(np_logout)\n",
    "print(df)"
   ]
  },
  {
   "cell_type": "markdown",
   "id": "9550701f",
   "metadata": {},
   "source": [
    "Q8 Solution 2\n",
    "\n",
    "SELECT *, RANK() OVER(PARTITION BY Employee ORDER BY HrsWorked DESC) as rnk \n",
    "FROM (SELECT *, TIMEDIFF(Logout_Time, Login_Time) as HrsWorked FROM EmployeeLogData ) as sub WHERE rnk=1"
   ]
  },
  {
   "cell_type": "code",
   "execution_count": 8,
   "id": "032cb6bf",
   "metadata": {},
   "outputs": [
    {
     "name": "stdout",
     "output_type": "stream",
     "text": [
      "  Employee Login_Time Logout_Time  TotalHrsWorked\n",
      "0        A      09:00       17:00 0 days 08:00:00\n",
      "1        B      10:00       16:00 0 days 06:00:00\n",
      "2        C      09:30       18:00 0 days 08:30:00\n"
     ]
    }
   ],
   "source": [
    "import pandas as pd\n",
    "import numpy as np\n",
    "\n",
    "data = {\n",
    "    'Employee':['A','B','C'],\n",
    "    'Login_Time':['09:00','10:00','09:30'],\n",
    "    'Logout_Time':['17:00','16:00','18:00']\n",
    "}\n",
    "df = pd.DataFrame(data)\n",
    "\n",
    "login = data['Login_Time']\n",
    "pd_login = pd.to_datetime(login, format='mixed')\n",
    "np_login = pd_login.to_numpy()\n",
    "\n",
    "logout = data['Logout_Time']\n",
    "pd_logout = pd.to_datetime(logout, format='mixed')\n",
    "np_logout = pd_logout.to_numpy()\n",
    "\n",
    "df['TotalHrsWorked'] = np_logout - np_login\n",
    "\n",
    "sorted_df = df.sort_values(by='TotalHrsWorked', ascending=False)\n",
    "print(df)"
   ]
  },
  {
   "cell_type": "markdown",
   "id": "cce57ce5",
   "metadata": {},
   "source": [
    "Q8 Solution 3\n",
    "\n",
    "If the Logout column has blank values, then the median logout time can be calculated for that particular employee and the Null value can be replaced with it."
   ]
  },
  {
   "cell_type": "code",
   "execution_count": 7,
   "id": "77d5291a",
   "metadata": {},
   "outputs": [
    {
     "name": "stdout",
     "output_type": "stream",
     "text": [
      "  Employee Login_Time         Logout_Time\n",
      "0        A      09:00 2025-09-07 17:00:00\n",
      "1        B      10:00 2025-09-07 16:00:00\n",
      "2        C      09:30 2025-09-07 18:00:00\n"
     ]
    }
   ],
   "source": [
    "import pandas as pd\n",
    "import numpy as np\n",
    "\n",
    "data = {\n",
    "    'Employee':['A','B','C'],\n",
    "    'Login_Time':['09:00','10:00','09:30'],\n",
    "    'Logout_Time':['17:00','16:00','18:00']\n",
    "}\n",
    "df = pd.DataFrame(data)\n",
    "\n",
    "logout = data['Logout_Time']\n",
    "pd_logout = pd.to_datetime(logout, format='mixed')\n",
    "np_logout = pd_logout.to_numpy()\n",
    "\n",
    "df['Logout_Time'] = np_logout\n",
    "\n",
    "avg_logout_time = df.groupby('Employee')['Logout_Time'].median()            # calc median logout time for each emp\n",
    "df['Logout_Time'].fillna(avg_logout_time)\n",
    "\n",
    "print(df)\n"
   ]
  }
 ],
 "metadata": {
  "kernelspec": {
   "display_name": "Python 3",
   "language": "python",
   "name": "python3"
  },
  "language_info": {
   "codemirror_mode": {
    "name": "ipython",
    "version": 3
   },
   "file_extension": ".py",
   "mimetype": "text/x-python",
   "name": "python",
   "nbconvert_exporter": "python",
   "pygments_lexer": "ipython3",
   "version": "3.13.0"
  }
 },
 "nbformat": 4,
 "nbformat_minor": 5
}
