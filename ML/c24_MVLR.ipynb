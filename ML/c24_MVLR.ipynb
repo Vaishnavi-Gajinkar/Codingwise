{
 "cells": [
  {
   "cell_type": "code",
   "execution_count": 1,
   "id": "5ef7eed9",
   "metadata": {},
   "outputs": [
    {
     "name": "stderr",
     "output_type": "stream",
     "text": [
      "Downloading...\n",
      "From: https://drive.google.com/uc?id=1fLuRn7BLw_Mz_AbzAaYVt3D336RSRRvK\n",
      "To: c:\\Users\\Lenovo\\OneDrive\\Documents\\Python\\CodingWise\\ML\\cars24-car-price-clean(YScaled_MaxMin).csv\n",
      "\n",
      "  0%|          | 0.00/4.19M [00:00<?, ?B/s]\n",
      " 13%|█▎        | 524k/4.19M [00:00<00:01, 2.79MB/s]\n",
      " 50%|█████     | 2.10M/4.19M [00:00<00:00, 7.68MB/s]\n",
      "100%|██████████| 4.19M/4.19M [00:00<00:00, 10.9MB/s]\n"
     ]
    }
   ],
   "source": [
    "import numpy as np\n",
    "import pandas as pd\n",
    "import matplotlib.pyplot as plt\n",
    "\n",
    "!gdown 1fLuRn7BLw_Mz_AbzAaYVt3D336RSRRvK"
   ]
  },
  {
   "cell_type": "markdown",
   "id": "44b039a6",
   "metadata": {},
   "source": [
    "## Multivariate Linear Regression"
   ]
  },
  {
   "cell_type": "code",
   "execution_count": 2,
   "id": "83b635cd",
   "metadata": {},
   "outputs": [],
   "source": [
    "from sklearn.linear_model import LinearRegression"
   ]
  },
  {
   "cell_type": "code",
   "execution_count": 4,
   "id": "027f649a",
   "metadata": {},
   "outputs": [
    {
     "data": {
      "text/html": [
       "<div>\n",
       "<style scoped>\n",
       "    .dataframe tbody tr th:only-of-type {\n",
       "        vertical-align: middle;\n",
       "    }\n",
       "\n",
       "    .dataframe tbody tr th {\n",
       "        vertical-align: top;\n",
       "    }\n",
       "\n",
       "    .dataframe thead th {\n",
       "        text-align: right;\n",
       "    }\n",
       "</style>\n",
       "<table border=\"1\" class=\"dataframe\">\n",
       "  <thead>\n",
       "    <tr style=\"text-align: right;\">\n",
       "      <th></th>\n",
       "      <th>selling_price</th>\n",
       "      <th>year</th>\n",
       "      <th>km_driven</th>\n",
       "      <th>mileage</th>\n",
       "      <th>engine</th>\n",
       "      <th>max_power</th>\n",
       "      <th>age</th>\n",
       "      <th>make</th>\n",
       "      <th>model</th>\n",
       "      <th>Individual</th>\n",
       "      <th>Trustmark Dealer</th>\n",
       "      <th>Diesel</th>\n",
       "      <th>Electric</th>\n",
       "      <th>LPG</th>\n",
       "      <th>Petrol</th>\n",
       "      <th>Manual</th>\n",
       "      <th>5</th>\n",
       "      <th>&gt;5</th>\n",
       "    </tr>\n",
       "  </thead>\n",
       "  <tbody>\n",
       "    <tr>\n",
       "      <th>0</th>\n",
       "      <td>0.043684</td>\n",
       "      <td>0.689655</td>\n",
       "      <td>0.031553</td>\n",
       "      <td>0.135345</td>\n",
       "      <td>0.117891</td>\n",
       "      <td>0.066506</td>\n",
       "      <td>0.310345</td>\n",
       "      <td>0.184371</td>\n",
       "      <td>0.042522</td>\n",
       "      <td>1.0</td>\n",
       "      <td>0.0</td>\n",
       "      <td>0.0</td>\n",
       "      <td>0.0</td>\n",
       "      <td>0.0</td>\n",
       "      <td>1.0</td>\n",
       "      <td>1.0</td>\n",
       "      <td>1.0</td>\n",
       "      <td>0.0</td>\n",
       "    </tr>\n",
       "    <tr>\n",
       "      <th>1</th>\n",
       "      <td>0.252397</td>\n",
       "      <td>0.827586</td>\n",
       "      <td>0.005237</td>\n",
       "      <td>0.128448</td>\n",
       "      <td>0.177281</td>\n",
       "      <td>0.123994</td>\n",
       "      <td>0.172414</td>\n",
       "      <td>0.207231</td>\n",
       "      <td>0.225975</td>\n",
       "      <td>1.0</td>\n",
       "      <td>0.0</td>\n",
       "      <td>0.0</td>\n",
       "      <td>0.0</td>\n",
       "      <td>0.0</td>\n",
       "      <td>1.0</td>\n",
       "      <td>1.0</td>\n",
       "      <td>1.0</td>\n",
       "      <td>0.0</td>\n",
       "    </tr>\n",
       "    <tr>\n",
       "      <th>2</th>\n",
       "      <td>0.089795</td>\n",
       "      <td>0.620690</td>\n",
       "      <td>0.015764</td>\n",
       "      <td>0.112069</td>\n",
       "      <td>0.177281</td>\n",
       "      <td>0.120773</td>\n",
       "      <td>0.379310</td>\n",
       "      <td>0.207231</td>\n",
       "      <td>0.120277</td>\n",
       "      <td>1.0</td>\n",
       "      <td>0.0</td>\n",
       "      <td>0.0</td>\n",
       "      <td>0.0</td>\n",
       "      <td>0.0</td>\n",
       "      <td>1.0</td>\n",
       "      <td>1.0</td>\n",
       "      <td>1.0</td>\n",
       "      <td>0.0</td>\n",
       "    </tr>\n",
       "    <tr>\n",
       "      <th>3</th>\n",
       "      <td>0.095134</td>\n",
       "      <td>0.689655</td>\n",
       "      <td>0.009711</td>\n",
       "      <td>0.145862</td>\n",
       "      <td>0.147808</td>\n",
       "      <td>0.100000</td>\n",
       "      <td>0.310345</td>\n",
       "      <td>0.184371</td>\n",
       "      <td>0.093549</td>\n",
       "      <td>1.0</td>\n",
       "      <td>0.0</td>\n",
       "      <td>0.0</td>\n",
       "      <td>0.0</td>\n",
       "      <td>0.0</td>\n",
       "      <td>1.0</td>\n",
       "      <td>1.0</td>\n",
       "      <td>1.0</td>\n",
       "      <td>0.0</td>\n",
       "    </tr>\n",
       "    <tr>\n",
       "      <th>4</th>\n",
       "      <td>0.262104</td>\n",
       "      <td>0.793103</td>\n",
       "      <td>0.007869</td>\n",
       "      <td>0.161810</td>\n",
       "      <td>0.221860</td>\n",
       "      <td>0.150709</td>\n",
       "      <td>0.206897</td>\n",
       "      <td>0.224624</td>\n",
       "      <td>0.300085</td>\n",
       "      <td>0.0</td>\n",
       "      <td>0.0</td>\n",
       "      <td>1.0</td>\n",
       "      <td>0.0</td>\n",
       "      <td>0.0</td>\n",
       "      <td>0.0</td>\n",
       "      <td>1.0</td>\n",
       "      <td>1.0</td>\n",
       "      <td>0.0</td>\n",
       "    </tr>\n",
       "  </tbody>\n",
       "</table>\n",
       "</div>"
      ],
      "text/plain": [
       "   selling_price      year  km_driven   mileage    engine  max_power  \\\n",
       "0       0.043684  0.689655   0.031553  0.135345  0.117891   0.066506   \n",
       "1       0.252397  0.827586   0.005237  0.128448  0.177281   0.123994   \n",
       "2       0.089795  0.620690   0.015764  0.112069  0.177281   0.120773   \n",
       "3       0.095134  0.689655   0.009711  0.145862  0.147808   0.100000   \n",
       "4       0.262104  0.793103   0.007869  0.161810  0.221860   0.150709   \n",
       "\n",
       "        age      make     model  Individual  Trustmark Dealer  Diesel  \\\n",
       "0  0.310345  0.184371  0.042522         1.0               0.0     0.0   \n",
       "1  0.172414  0.207231  0.225975         1.0               0.0     0.0   \n",
       "2  0.379310  0.207231  0.120277         1.0               0.0     0.0   \n",
       "3  0.310345  0.184371  0.093549         1.0               0.0     0.0   \n",
       "4  0.206897  0.224624  0.300085         0.0               0.0     1.0   \n",
       "\n",
       "   Electric  LPG  Petrol  Manual    5   >5  \n",
       "0       0.0  0.0     1.0     1.0  1.0  0.0  \n",
       "1       0.0  0.0     1.0     1.0  1.0  0.0  \n",
       "2       0.0  0.0     1.0     1.0  1.0  0.0  \n",
       "3       0.0  0.0     1.0     1.0  1.0  0.0  \n",
       "4       0.0  0.0     0.0     1.0  1.0  0.0  "
      ]
     },
     "execution_count": 4,
     "metadata": {},
     "output_type": "execute_result"
    }
   ],
   "source": [
    "df = pd.read_csv('cars24-car-price-clean(YScaled_MaxMin).csv')\n",
    "df.head()"
   ]
  },
  {
   "cell_type": "markdown",
   "id": "cbc00c2b",
   "metadata": {},
   "source": [
    "Removing the selling price and taking rest of the features in X"
   ]
  },
  {
   "cell_type": "code",
   "execution_count": 5,
   "id": "e3b9bfd2",
   "metadata": {},
   "outputs": [],
   "source": [
    "X = df[df.columns.drop('selling_price')]\n",
    "Y = df[\"selling_price\"]"
   ]
  },
  {
   "cell_type": "markdown",
   "id": "814c8dc5",
   "metadata": {},
   "source": [
    "Convert X and Y from dataframes to numpy array"
   ]
  },
  {
   "cell_type": "code",
   "execution_count": 6,
   "id": "bb72206d",
   "metadata": {},
   "outputs": [],
   "source": [
    "X = X.to_numpy()\n",
    "Y = Y.to_numpy()"
   ]
  },
  {
   "cell_type": "markdown",
   "id": "e3df746a",
   "metadata": {},
   "source": [
    "Calculating Mu, standard deviation & performing standardization"
   ]
  },
  {
   "cell_type": "code",
   "execution_count": 7,
   "id": "f9e6fdb2",
   "metadata": {},
   "outputs": [],
   "source": [
    "u = np.mean(X,axis=0)\n",
    "std = np.std(X,axis=0)\n",
    "\n",
    "X = (X-u)/std"
   ]
  },
  {
   "cell_type": "code",
   "execution_count": 8,
   "id": "34ea6a5e",
   "metadata": {},
   "outputs": [
    {
     "name": "stdout",
     "output_type": "stream",
     "text": [
      "(19820, 17) (19820,)\n"
     ]
    }
   ],
   "source": [
    "print(X.shape, Y.shape)"
   ]
  },
  {
   "cell_type": "markdown",
   "id": "6f68541a",
   "metadata": {},
   "source": [
    "Adding $x_0$ feature to X"
   ]
  },
  {
   "cell_type": "code",
   "execution_count": 10,
   "id": "4a11fc37",
   "metadata": {},
   "outputs": [
    {
     "name": "stdout",
     "output_type": "stream",
     "text": [
      "(19820, 19)\n"
     ]
    }
   ],
   "source": [
    "ones = np.ones((X.shape[0],1))\n",
    "X = np.hstack((ones,X))\n",
    "print(X.shape)"
   ]
  },
  {
   "cell_type": "code",
   "execution_count": 11,
   "id": "6594a115",
   "metadata": {},
   "outputs": [],
   "source": [
    "def hypothesis(X,weight):\n",
    "    return np.dot(X,weight)"
   ]
  },
  {
   "cell_type": "code",
   "execution_count": 12,
   "id": "80d4860a",
   "metadata": {},
   "outputs": [],
   "source": [
    "def error(X,y,weight):                      # MSE error function\n",
    "    e = 0.0\n",
    "    m = X.shape[0]\n",
    "    y_hat = hypothesis(X,weight)\n",
    "    e = np.sum((y-y_hat)**2)\n",
    "    return e/m"
   ]
  },
  {
   "cell_type": "code",
   "execution_count": 13,
   "id": "38b06d10",
   "metadata": {},
   "outputs": [],
   "source": [
    "def gradient(X,y,weight):\n",
    "    \n",
    "    y_hat = hypothesis(X,weight)\n",
    "    grad = np.dot(X.T,(y_hat - y))\n",
    "    m = X.shape[0]\n",
    "    return grad/m\n",
    "\n",
    "def gradient_descent(X,y,learning_rate = 0.1,epochs=500):\n",
    "    \n",
    "    n = X.shape[1]\n",
    "    weight = np.zeros((n,))\n",
    "    error_list = []\n",
    "    \n",
    "    for i in range(epochs):\n",
    "        e = error(X,y,weight)\n",
    "        error_list.append(e)\n",
    "        \n",
    "        #Gradient descent\n",
    "        grad = gradient(X,y,weight)\n",
    "        weight = weight - learning_rate*grad\n",
    "        \n",
    "    return weight, error_list"
   ]
  },
  {
   "cell_type": "code",
   "execution_count": 14,
   "id": "198ac23a",
   "metadata": {},
   "outputs": [
    {
     "name": "stdout",
     "output_type": "stream",
     "text": [
      "Time taken is  0.18565011024475098\n"
     ]
    }
   ],
   "source": [
    "import time                                     # calculating time taken\n",
    "start = time.time()\n",
    "weight, error_list = gradient_descent(X,Y)\n",
    "end = time.time()\n",
    "print(\"Time taken is \", end-start)"
   ]
  },
  {
   "cell_type": "code",
   "execution_count": 15,
   "id": "6f53995c",
   "metadata": {},
   "outputs": [
    {
     "name": "stdout",
     "output_type": "stream",
     "text": [
      "[ 0.15254237  0.15254237  0.01528358 -0.00430307 -0.01137388  0.0071149\n",
      "  0.00681522 -0.01528358  0.01446966  0.18654218 -0.00398817 -0.00080921\n",
      "  0.00368586  0.00301192  0.00070946 -0.00493635 -0.00308501 -0.00442518\n",
      " -0.00615209]\n"
     ]
    }
   ],
   "source": [
    "print(weight)                                   # learnt parameters (weights)"
   ]
  },
  {
   "cell_type": "markdown",
   "id": "2050cb3e",
   "metadata": {},
   "source": [
    "## Plotting the error function"
   ]
  },
  {
   "cell_type": "code",
   "execution_count": 16,
   "id": "71c6a7fe",
   "metadata": {},
   "outputs": [
    {
     "data": {
      "image/png": "[encoded data removed]",
      "text/plain": [
       "<Figure size 640x480 with 1 Axes>"
      ]
     },
     "metadata": {},
     "output_type": "display_data"
    }
   ],
   "source": [
    "fig = plt.figure()\n",
    "plt.plot(error_list)\n",
    "plt.show()"
   ]
  },
  {
   "cell_type": "code",
   "execution_count": 17,
   "id": "2bec0b5c",
   "metadata": {},
   "outputs": [],
   "source": [
    "Y_hat = hypothesis(X,weight)                    # predictions for X"
   ]
  },
  {
   "cell_type": "code",
   "execution_count": 18,
   "id": "f3ebc6de",
   "metadata": {},
   "outputs": [],
   "source": [
    "def r2_score(y,y_):                             # calculating score\n",
    "    num = np.sum((y-y_)**2)\n",
    "    denom = np.sum((y- y.mean())**2)\n",
    "    score = (1- num/denom)\n",
    "    return score"
   ]
  },
  {
   "cell_type": "code",
   "execution_count": 19,
   "id": "f22b828a",
   "metadata": {},
   "outputs": [
    {
     "data": {
      "text/plain": [
       "np.float64(0.9421852544960344)"
      ]
     },
     "execution_count": 19,
     "metadata": {},
     "output_type": "execute_result"
    }
   ],
   "source": [
    "r2_score(Y,Y_hat)"
   ]
  },
  {
   "cell_type": "markdown",
   "id": "feb5bd44",
   "metadata": {},
   "source": [
    "Above is the score calculated using all features (columns of data table)<br>\n",
    "However, R_sq always seems to increase with addition of more features, be it relevent or irrelevent\n",
    "\n",
    "Hence we calculate the Adjusted R_sq, everytime a new col is added, to check for accuracy"
   ]
  },
  {
   "cell_type": "code",
   "execution_count": 20,
   "id": "22fe105a",
   "metadata": {},
   "outputs": [
    {
     "name": "stdout",
     "output_type": "stream",
     "text": [
      "Adjusted R-squared: 0.9421297756998437\n"
     ]
    }
   ],
   "source": [
    "Adj_R = 1 - (1-r2_score(Y,Y_hat))*(len(Y)-1)/(len(Y)-X.shape[1]-1)\n",
    "print(\"Adjusted R-squared:\", Adj_R )"
   ]
  }
 ],
 "metadata": {
  "kernelspec": {
   "display_name": "Python 3",
   "language": "python",
   "name": "python3"
  },
  "language_info": {
   "codemirror_mode": {
    "name": "ipython",
    "version": 3
   },
   "file_extension": ".py",
   "mimetype": "text/x-python",
   "name": "python",
   "nbconvert_exporter": "python",
   "pygments_lexer": "ipython3",
   "version": "3.13.0"
  }
 },
 "nbformat": 4,
 "nbformat_minor": 5
}
